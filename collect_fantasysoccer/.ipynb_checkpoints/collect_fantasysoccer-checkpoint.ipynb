{
 "cells": [
  {
   "cell_type": "code",
   "execution_count": 1,
   "metadata": {
    "collapsed": false
   },
   "outputs": [
    {
     "name": "stdout",
     "output_type": "stream",
     "text": [
      "Sebastian Raschka 03/01/2015 \n",
      "\n",
      "CPython 3.4.2\n",
      "IPython 2.3.1\n"
     ]
    }
   ],
   "source": [
    "%load_ext watermark\n",
    "%watermark -a 'Sebastian Raschka' -v -d"
   ]
  },
  {
   "cell_type": "markdown",
   "metadata": {},
   "source": [
    "<br>\n",
    "<br>"
   ]
  },
  {
   "cell_type": "markdown",
   "metadata": {},
   "source": [
    "# Collecting Premier League Data"
   ]
  },
  {
   "cell_type": "markdown",
   "metadata": {},
   "source": [
    "### Sections"
   ]
  },
  {
   "cell_type": "markdown",
   "metadata": {},
   "source": [
    "- [dreamteamfc.com](#dreamteamfc.com)\n",
    "    - [Getting General Player Statistics](#Getting-General-Player-Statistics)\n",
    "    - [Getting Injuries and Cards Information](#Getting-Injuries-and-Cards-Information)\n",
    "    - [Getting Player Form Information](#Getting-Player-Form-Information)\n",
    "    - [Saving the Data to CSV](#Saving-the-Data-to-CSV)\n",
    "- [espnfc.com](#espnfc.com)\n",
    "    - [Getting Team Ranks and Stats](#Getting-Team-Ranks-and-Stats)\n",
    "    - [Saving ESPN Data to CSV](#Saving-ESPN-Data-to-CSV)\n",
    "    - [Getting Top Scorer](#Getting-Top-Scorer)\n",
    "    - [Getting Top Assists](#Getting-Top-Assists)\n",
    "- [365stats.com](#365stats.com)\n",
    "    - [Getting Injury Data](#Getting-Injury-Data)\n",
    "    - [Saving 365stats Data to CSV](#Saving-365stats-Data-to-CSV)\n",
    "- [Transfermarkt.com](#Transfermarkt.com)\n",
    "    - [Getting Home and Away Teams](#Getting-Home-and-Away-Teams)\n",
    "    - [Saving Home and Away Teams to CSV](#Saving-Home-and-Away-Teams-to-CSV)\n",
    "- [premierleague.com](#premierleague.com)\n",
    "- [telegraph.co.uk](#telegraph.co.uk)\n",
    "    - [Getting Current Week Points](#Getting-Current-Week-Points)\n",
    "    - [Getting 6-Week Points](#Getting-6---Week-Points)\n",
    "    - [Saving telegraph.co.uk to CSV](#Saving-telegraph.co.uk-to-CSV)\n",
    "- [m.premierleague.com](#m.premierleague.com)\n",
    "    - [Combined Form of Previous 6 Days](#Combined-Form-of-Previous-6-Days)\n",
    "    - [Saving m.premierleague.com to CSV](#Saving-m.premierleague.com-to-CSV)\n",
    "- [fantasyfootballscout.co.uk](#fantasyfootballscout.co.uk)\n",
    "    - [Predicted Line-Ups](#Predicted Line-Ups)\n",
    "    - [Saving fantasyfootballscout.co.uk to CSV](#Saving-fantasyfootballscout.co.uk-to-CSV)"
   ]
  },
  {
   "cell_type": "markdown",
   "metadata": {},
   "source": [
    "<br>\n",
    "<br>"
   ]
  },
  {
   "cell_type": "markdown",
   "metadata": {},
   "source": [
    "# dreamteamfc.com"
   ]
  },
  {
   "cell_type": "markdown",
   "metadata": {},
   "source": [
    "[[back to top](#Sections)]"
   ]
  },
  {
   "cell_type": "markdown",
   "metadata": {},
   "source": [
    "<br>\n",
    "<br>"
   ]
  },
  {
   "cell_type": "markdown",
   "metadata": {},
   "source": [
    "## Getting General Player Statistics"
   ]
  },
  {
   "cell_type": "markdown",
   "metadata": {},
   "source": [
    "[[back to top](#Sections)]"
   ]
  },
  {
   "cell_type": "code",
   "execution_count": 1,
   "metadata": {
    "collapsed": false
   },
   "outputs": [],
   "source": [
    "import pandas as pd\n",
    "from bs4 import BeautifulSoup\n",
    "import bs4\n",
    "import requests"
   ]
  },
  {
   "cell_type": "code",
   "execution_count": 3,
   "metadata": {
    "collapsed": false
   },
   "outputs": [
    {
     "name": "stdout",
     "output_type": "stream",
     "text": [
      "Found: 401\n",
      "O'Brien, Joey\n"
     ]
    }
   ],
   "source": [
    "# Downloading and parsing the data into a Python dict\n",
    "\n",
    "player_dict = {}\n",
    "\n",
    "url = 'https://www.dreamteamfc.com/statistics/players/ALL/'\n",
    "r  = requests.get(url)\n",
    "soup = BeautifulSoup(r.text, 'html5lib') \n",
    "# Note: html5lib deals better with broken html than lxml\n",
    "\n",
    "name_list = []\n",
    "\n",
    "for td in soup.findAll(\"td\", { \"class\" : \"tabName\" }):\n",
    "    name = td.text.split('Statistics')[-1].strip()\n",
    "    if name:\n",
    "        name_list.append(name)\n",
    "        res = [i.text for i in td.next_siblings if isinstance(i, bs4.element.Tag)]\n",
    "        position, team, vfm, value, points = res\n",
    "        value = value.strip('m')\n",
    "        player_dict[name] = [name, position, team, vfm, value, points]\n",
    "        \n",
    "print('Found: %s' % len(name_list))\n",
    "print(name_list[-1])"
   ]
  },
  {
   "cell_type": "code",
   "execution_count": 4,
   "metadata": {
    "collapsed": false
   },
   "outputs": [
    {
     "data": {
      "text/html": [
       "<div style=\"max-height:1000px;max-width:1500px;overflow:auto;\">\n",
       "<table border=\"1\" class=\"dataframe\">\n",
       "  <thead>\n",
       "    <tr style=\"text-align: right;\">\n",
       "      <th></th>\n",
       "      <th>name</th>\n",
       "      <th>position</th>\n",
       "      <th>team</th>\n",
       "      <th>vfm</th>\n",
       "      <th>value</th>\n",
       "      <th>pts</th>\n",
       "    </tr>\n",
       "  </thead>\n",
       "  <tbody>\n",
       "    <tr>\n",
       "      <th>Sigurdsson, Gylfi</th>\n",
       "      <td> Sigurdsson, Gylfi</td>\n",
       "      <td> MID</td>\n",
       "      <td> SWA</td>\n",
       "      <td> 28.67</td>\n",
       "      <td> 3.0</td>\n",
       "      <td> 86</td>\n",
       "    </tr>\n",
       "    <tr>\n",
       "      <th>van Ginkel, Marco</th>\n",
       "      <td> van Ginkel, Marco</td>\n",
       "      <td> MID</td>\n",
       "      <td> CHE</td>\n",
       "      <td>  0.00</td>\n",
       "      <td> 2.0</td>\n",
       "      <td>  0</td>\n",
       "    </tr>\n",
       "    <tr>\n",
       "      <th>Chamakh, Marouane</th>\n",
       "      <td> Chamakh, Marouane</td>\n",
       "      <td> STR</td>\n",
       "      <td> CRY</td>\n",
       "      <td>  2.67</td>\n",
       "      <td> 1.5</td>\n",
       "      <td>  4</td>\n",
       "    </tr>\n",
       "    <tr>\n",
       "      <th>Ince, Tom</th>\n",
       "      <td>         Ince, Tom</td>\n",
       "      <td> MID</td>\n",
       "      <td> HUL</td>\n",
       "      <td>  6.50</td>\n",
       "      <td> 2.0</td>\n",
       "      <td> 13</td>\n",
       "    </tr>\n",
       "    <tr>\n",
       "      <th>Ireland, Stephen</th>\n",
       "      <td>  Ireland, Stephen</td>\n",
       "      <td> MID</td>\n",
       "      <td> STO</td>\n",
       "      <td>  4.00</td>\n",
       "      <td> 1.0</td>\n",
       "      <td>  4</td>\n",
       "    </tr>\n",
       "  </tbody>\n",
       "</table>\n",
       "</div>"
      ],
      "text/plain": [
       "                                name position team    vfm  value  pts\n",
       "Sigurdsson, Gylfi  Sigurdsson, Gylfi      MID  SWA  28.67    3.0   86\n",
       "van Ginkel, Marco  van Ginkel, Marco      MID  CHE   0.00    2.0    0\n",
       "Chamakh, Marouane  Chamakh, Marouane      STR  CRY   2.67    1.5    4\n",
       "Ince, Tom                  Ince, Tom      MID  HUL   6.50    2.0   13\n",
       "Ireland, Stephen    Ireland, Stephen      MID  STO   4.00    1.0    4"
      ]
     },
     "execution_count": 4,
     "metadata": {},
     "output_type": "execute_result"
    }
   ],
   "source": [
    "# Reading the data into a pandas DataFrame\n",
    "\n",
    "df = pd.DataFrame.from_dict(player_dict, orient='index')\n",
    "df.columns = ['name', 'position', 'team', 'vfm', 'value', 'pts']\n",
    "df[['vfm','value']] = df[['vfm','value']].astype(float)\n",
    "df[['pts']] = df[['pts']].astype(int)\n",
    "df.tail()"
   ]
  },
  {
   "cell_type": "code",
   "execution_count": 5,
   "metadata": {
    "collapsed": false
   },
   "outputs": [
    {
     "data": {
      "text/html": [
       "<div style=\"max-height:1000px;max-width:1500px;overflow:auto;\">\n",
       "<table border=\"1\" class=\"dataframe\">\n",
       "  <thead>\n",
       "    <tr style=\"text-align: right;\">\n",
       "      <th></th>\n",
       "      <th>vfm</th>\n",
       "      <th>value</th>\n",
       "      <th>pts</th>\n",
       "    </tr>\n",
       "  </thead>\n",
       "  <tbody>\n",
       "    <tr>\n",
       "      <th>count</th>\n",
       "      <td> 401.000000</td>\n",
       "      <td> 401.000000</td>\n",
       "      <td> 401.000000</td>\n",
       "    </tr>\n",
       "    <tr>\n",
       "      <th>mean</th>\n",
       "      <td>  11.185661</td>\n",
       "      <td>   2.770574</td>\n",
       "      <td>  29.581047</td>\n",
       "    </tr>\n",
       "    <tr>\n",
       "      <th>std</th>\n",
       "      <td>  10.259686</td>\n",
       "      <td>   1.416327</td>\n",
       "      <td>  27.582405</td>\n",
       "    </tr>\n",
       "    <tr>\n",
       "      <th>min</th>\n",
       "      <td> -13.000000</td>\n",
       "      <td>   1.000000</td>\n",
       "      <td> -13.000000</td>\n",
       "    </tr>\n",
       "    <tr>\n",
       "      <th>25%</th>\n",
       "      <td>   3.600000</td>\n",
       "      <td>   1.500000</td>\n",
       "      <td>   9.000000</td>\n",
       "    </tr>\n",
       "    <tr>\n",
       "      <th>50%</th>\n",
       "      <td>   9.330000</td>\n",
       "      <td>   2.500000</td>\n",
       "      <td>  24.000000</td>\n",
       "    </tr>\n",
       "    <tr>\n",
       "      <th>75%</th>\n",
       "      <td>  15.850000</td>\n",
       "      <td>   3.500000</td>\n",
       "      <td>  43.000000</td>\n",
       "    </tr>\n",
       "    <tr>\n",
       "      <th>max</th>\n",
       "      <td>  93.330000</td>\n",
       "      <td>   7.500000</td>\n",
       "      <td> 167.000000</td>\n",
       "    </tr>\n",
       "  </tbody>\n",
       "</table>\n",
       "</div>"
      ],
      "text/plain": [
       "              vfm       value         pts\n",
       "count  401.000000  401.000000  401.000000\n",
       "mean    11.185661    2.770574   29.581047\n",
       "std     10.259686    1.416327   27.582405\n",
       "min    -13.000000    1.000000  -13.000000\n",
       "25%      3.600000    1.500000    9.000000\n",
       "50%      9.330000    2.500000   24.000000\n",
       "75%     15.850000    3.500000   43.000000\n",
       "max     93.330000    7.500000  167.000000"
      ]
     },
     "execution_count": 5,
     "metadata": {},
     "output_type": "execute_result"
    }
   ],
   "source": [
    "df.describe()"
   ]
  },
  {
   "cell_type": "markdown",
   "metadata": {},
   "source": [
    "<br>\n",
    "<br>"
   ]
  },
  {
   "cell_type": "markdown",
   "metadata": {},
   "source": [
    "## Getting Injuries and Cards Information"
   ]
  },
  {
   "cell_type": "markdown",
   "metadata": {},
   "source": [
    "[[back to top](#Sections)]"
   ]
  },
  {
   "cell_type": "code",
   "execution_count": 6,
   "metadata": {
    "collapsed": false
   },
   "outputs": [],
   "source": [
    "df['status'] = pd.Series('', index=df.index)\n",
    "df['description'] = pd.Series('', index=df.index)\n",
    "df['returns'] = pd.Series('', index=df.index)"
   ]
  },
  {
   "cell_type": "code",
   "execution_count": 7,
   "metadata": {
    "collapsed": false
   },
   "outputs": [
    {
     "name": "stdout",
     "output_type": "stream",
     "text": [
      "Found: 81\n",
      "Fernando\n"
     ]
    }
   ],
   "source": [
    "url = 'https://www.dreamteamfc.com/statistics/injuries-and-cards/ALL/'\n",
    "r  = requests.get(url)\n",
    "soup = BeautifulSoup(r.text, 'html5lib')\n",
    "\n",
    "name_list = []\n",
    "\n",
    "for td in soup.findAll(\"td\", { \"class\" : \"tabName2\" }):\n",
    "    name = td.text.split('stats')[-1].strip()\n",
    "    if name:\n",
    "        name_list.append(name)\n",
    "        res = [i.text for i in td.next_siblings if isinstance(i, bs4.element.Tag)]\n",
    "        position, team, status, description, returns = res\n",
    "        df.loc[df.index==name,['status', 'description', 'returns']] = status, description, returns\n",
    "        \n",
    "print('Found: %s' % len(name_list))\n",
    "print(name_list[-1])"
   ]
  },
  {
   "cell_type": "code",
   "execution_count": 8,
   "metadata": {
    "collapsed": false
   },
   "outputs": [
    {
     "data": {
      "text/html": [
       "<div style=\"max-height:1000px;max-width:1500px;overflow:auto;\">\n",
       "<table border=\"1\" class=\"dataframe\">\n",
       "  <thead>\n",
       "    <tr style=\"text-align: right;\">\n",
       "      <th></th>\n",
       "      <th>name</th>\n",
       "      <th>position</th>\n",
       "      <th>team</th>\n",
       "      <th>vfm</th>\n",
       "      <th>value</th>\n",
       "      <th>pts</th>\n",
       "      <th>status</th>\n",
       "      <th>description</th>\n",
       "      <th>returns</th>\n",
       "    </tr>\n",
       "  </thead>\n",
       "  <tbody>\n",
       "    <tr>\n",
       "      <th>Sigurdsson, Gylfi</th>\n",
       "      <td> Sigurdsson, Gylfi</td>\n",
       "      <td> MID</td>\n",
       "      <td> SWA</td>\n",
       "      <td> 28.67</td>\n",
       "      <td> 3.0</td>\n",
       "      <td> 86</td>\n",
       "      <td>            </td>\n",
       "      <td>                                                  </td>\n",
       "      <td>           </td>\n",
       "    </tr>\n",
       "    <tr>\n",
       "      <th>van Ginkel, Marco</th>\n",
       "      <td> van Ginkel, Marco</td>\n",
       "      <td> MID</td>\n",
       "      <td> CHE</td>\n",
       "      <td>  0.00</td>\n",
       "      <td> 2.0</td>\n",
       "      <td>  0</td>\n",
       "      <td> Unavailable</td>\n",
       "      <td>               Joined AC Milan on season-long loan</td>\n",
       "      <td> 25/05/2015</td>\n",
       "    </tr>\n",
       "    <tr>\n",
       "      <th>Chamakh, Marouane</th>\n",
       "      <td> Chamakh, Marouane</td>\n",
       "      <td> STR</td>\n",
       "      <td> CRY</td>\n",
       "      <td>  2.67</td>\n",
       "      <td> 1.5</td>\n",
       "      <td>  4</td>\n",
       "      <td>     Injured</td>\n",
       "      <td> Sustained in the encounter with Stoke on 13/12...</td>\n",
       "      <td> 26/12/2014</td>\n",
       "    </tr>\n",
       "    <tr>\n",
       "      <th>Ince, Tom</th>\n",
       "      <td>         Ince, Tom</td>\n",
       "      <td> MID</td>\n",
       "      <td> HUL</td>\n",
       "      <td>  6.50</td>\n",
       "      <td> 2.0</td>\n",
       "      <td> 13</td>\n",
       "      <td>            </td>\n",
       "      <td>                                                  </td>\n",
       "      <td>           </td>\n",
       "    </tr>\n",
       "    <tr>\n",
       "      <th>Ireland, Stephen</th>\n",
       "      <td>  Ireland, Stephen</td>\n",
       "      <td> MID</td>\n",
       "      <td> STO</td>\n",
       "      <td>  4.00</td>\n",
       "      <td> 1.0</td>\n",
       "      <td>  4</td>\n",
       "      <td>    Doubtful</td>\n",
       "      <td>         Rated a doubt for 22/12 visit of Chelsea.</td>\n",
       "      <td> 01/01/2015</td>\n",
       "    </tr>\n",
       "  </tbody>\n",
       "</table>\n",
       "</div>"
      ],
      "text/plain": [
       "                                name position team    vfm  value  pts  \\\n",
       "Sigurdsson, Gylfi  Sigurdsson, Gylfi      MID  SWA  28.67    3.0   86   \n",
       "van Ginkel, Marco  van Ginkel, Marco      MID  CHE   0.00    2.0    0   \n",
       "Chamakh, Marouane  Chamakh, Marouane      STR  CRY   2.67    1.5    4   \n",
       "Ince, Tom                  Ince, Tom      MID  HUL   6.50    2.0   13   \n",
       "Ireland, Stephen    Ireland, Stephen      MID  STO   4.00    1.0    4   \n",
       "\n",
       "                        status  \\\n",
       "Sigurdsson, Gylfi                \n",
       "van Ginkel, Marco  Unavailable   \n",
       "Chamakh, Marouane      Injured   \n",
       "Ince, Tom                        \n",
       "Ireland, Stephen      Doubtful   \n",
       "\n",
       "                                                         description  \\\n",
       "Sigurdsson, Gylfi                                                      \n",
       "van Ginkel, Marco                Joined AC Milan on season-long loan   \n",
       "Chamakh, Marouane  Sustained in the encounter with Stoke on 13/12...   \n",
       "Ince, Tom                                                              \n",
       "Ireland, Stephen           Rated a doubt for 22/12 visit of Chelsea.   \n",
       "\n",
       "                      returns  \n",
       "Sigurdsson, Gylfi              \n",
       "van Ginkel, Marco  25/05/2015  \n",
       "Chamakh, Marouane  26/12/2014  \n",
       "Ince, Tom                      \n",
       "Ireland, Stephen   01/01/2015  "
      ]
     },
     "execution_count": 8,
     "metadata": {},
     "output_type": "execute_result"
    }
   ],
   "source": [
    "df.tail()"
   ]
  },
  {
   "cell_type": "markdown",
   "metadata": {},
   "source": [
    "<br>\n",
    "<br>"
   ]
  },
  {
   "cell_type": "markdown",
   "metadata": {},
   "source": [
    "## Getting Player Form Information"
   ]
  },
  {
   "cell_type": "markdown",
   "metadata": {},
   "source": [
    "[[back to top](#Sections)]"
   ]
  },
  {
   "cell_type": "code",
   "execution_count": 9,
   "metadata": {
    "collapsed": false
   },
   "outputs": [],
   "source": [
    "df['month_pts'] = pd.Series(0, index=df.index)\n",
    "df['week_pts'] = pd.Series(0, index=df.index)"
   ]
  },
  {
   "cell_type": "code",
   "execution_count": 11,
   "metadata": {
    "collapsed": false
   },
   "outputs": [
    {
     "name": "stdout",
     "output_type": "stream",
     "text": [
      "Found: 401\n",
      "O'Brien, Joey\n"
     ]
    }
   ],
   "source": [
    "url = 'https://www.dreamteamfc.com/statistics/form-guide/all'\n",
    "r  = requests.get(url)\n",
    "soup = BeautifulSoup(r.text, 'html5lib')\n",
    "\n",
    "name_list = []\n",
    "\n",
    "for td in soup.findAll(\"td\", { \"class\" : \"tabName\" }):\n",
    "    name = td.text.strip()\n",
    "    if name:\n",
    "        name_list.append(name)\n",
    "        \n",
    "        res = [i.text for i in td.next_siblings if isinstance(i, bs4.element.Tag)]\n",
    "        try:\n",
    "            month_pts, week_pts = float(res[-2]), float(res[-1])\n",
    "            df.loc[df.index==name, ['month_pts', 'week_pts']] = month_pts, week_pts\n",
    "        except ValueError:\n",
    "            pass\n",
    "        \n",
    "print('Found: %s' % len(name_list))\n",
    "print(name_list[-1])"
   ]
  },
  {
   "cell_type": "code",
   "execution_count": 13,
   "metadata": {
    "collapsed": false
   },
   "outputs": [
    {
     "data": {
      "text/html": [
       "<div style=\"max-height:1000px;max-width:1500px;overflow:auto;\">\n",
       "<table border=\"1\" class=\"dataframe\">\n",
       "  <thead>\n",
       "    <tr style=\"text-align: right;\">\n",
       "      <th></th>\n",
       "      <th>name</th>\n",
       "      <th>position</th>\n",
       "      <th>team</th>\n",
       "      <th>vfm</th>\n",
       "      <th>value</th>\n",
       "      <th>pts</th>\n",
       "      <th>month_pts</th>\n",
       "      <th>week_pts</th>\n",
       "      <th>status</th>\n",
       "      <th>description</th>\n",
       "      <th>returns</th>\n",
       "    </tr>\n",
       "  </thead>\n",
       "  <tbody>\n",
       "    <tr>\n",
       "      <th>Sigurdsson, Gylfi</th>\n",
       "      <td> Sigurdsson, Gylfi</td>\n",
       "      <td> MID</td>\n",
       "      <td> SWA</td>\n",
       "      <td> 28.67</td>\n",
       "      <td> 3.0</td>\n",
       "      <td> 86</td>\n",
       "      <td> 28</td>\n",
       "      <td> 5</td>\n",
       "      <td>            </td>\n",
       "      <td>                                                  </td>\n",
       "      <td>           </td>\n",
       "    </tr>\n",
       "    <tr>\n",
       "      <th>van Ginkel, Marco</th>\n",
       "      <td> van Ginkel, Marco</td>\n",
       "      <td> MID</td>\n",
       "      <td> CHE</td>\n",
       "      <td>  0.00</td>\n",
       "      <td> 2.0</td>\n",
       "      <td>  0</td>\n",
       "      <td>  0</td>\n",
       "      <td> 0</td>\n",
       "      <td> Unavailable</td>\n",
       "      <td>               Joined AC Milan on season-long loan</td>\n",
       "      <td> 25/05/2015</td>\n",
       "    </tr>\n",
       "    <tr>\n",
       "      <th>Chamakh, Marouane</th>\n",
       "      <td> Chamakh, Marouane</td>\n",
       "      <td> STR</td>\n",
       "      <td> CRY</td>\n",
       "      <td>  2.67</td>\n",
       "      <td> 1.5</td>\n",
       "      <td>  4</td>\n",
       "      <td> -1</td>\n",
       "      <td> 0</td>\n",
       "      <td>     Injured</td>\n",
       "      <td> Sustained in the encounter with Stoke on 13/12...</td>\n",
       "      <td> 26/12/2014</td>\n",
       "    </tr>\n",
       "    <tr>\n",
       "      <th>Ince, Tom</th>\n",
       "      <td>         Ince, Tom</td>\n",
       "      <td> MID</td>\n",
       "      <td> HUL</td>\n",
       "      <td>  6.50</td>\n",
       "      <td> 2.0</td>\n",
       "      <td> 13</td>\n",
       "      <td>  0</td>\n",
       "      <td> 0</td>\n",
       "      <td>            </td>\n",
       "      <td>                                                  </td>\n",
       "      <td>           </td>\n",
       "    </tr>\n",
       "    <tr>\n",
       "      <th>Ireland, Stephen</th>\n",
       "      <td>  Ireland, Stephen</td>\n",
       "      <td> MID</td>\n",
       "      <td> STO</td>\n",
       "      <td>  4.00</td>\n",
       "      <td> 1.0</td>\n",
       "      <td>  4</td>\n",
       "      <td> -1</td>\n",
       "      <td> 0</td>\n",
       "      <td>    Doubtful</td>\n",
       "      <td>         Rated a doubt for 22/12 visit of Chelsea.</td>\n",
       "      <td> 01/01/2015</td>\n",
       "    </tr>\n",
       "  </tbody>\n",
       "</table>\n",
       "</div>"
      ],
      "text/plain": [
       "                                name position team    vfm  value  pts  \\\n",
       "Sigurdsson, Gylfi  Sigurdsson, Gylfi      MID  SWA  28.67    3.0   86   \n",
       "van Ginkel, Marco  van Ginkel, Marco      MID  CHE   0.00    2.0    0   \n",
       "Chamakh, Marouane  Chamakh, Marouane      STR  CRY   2.67    1.5    4   \n",
       "Ince, Tom                  Ince, Tom      MID  HUL   6.50    2.0   13   \n",
       "Ireland, Stephen    Ireland, Stephen      MID  STO   4.00    1.0    4   \n",
       "\n",
       "                   month_pts  week_pts       status  \\\n",
       "Sigurdsson, Gylfi         28         5                \n",
       "van Ginkel, Marco          0         0  Unavailable   \n",
       "Chamakh, Marouane         -1         0      Injured   \n",
       "Ince, Tom                  0         0                \n",
       "Ireland, Stephen          -1         0     Doubtful   \n",
       "\n",
       "                                                         description  \\\n",
       "Sigurdsson, Gylfi                                                      \n",
       "van Ginkel, Marco                Joined AC Milan on season-long loan   \n",
       "Chamakh, Marouane  Sustained in the encounter with Stoke on 13/12...   \n",
       "Ince, Tom                                                              \n",
       "Ireland, Stephen           Rated a doubt for 22/12 visit of Chelsea.   \n",
       "\n",
       "                      returns  \n",
       "Sigurdsson, Gylfi              \n",
       "van Ginkel, Marco  25/05/2015  \n",
       "Chamakh, Marouane  26/12/2014  \n",
       "Ince, Tom                      \n",
       "Ireland, Stephen   01/01/2015  "
      ]
     },
     "execution_count": 13,
     "metadata": {},
     "output_type": "execute_result"
    }
   ],
   "source": [
    "# Reordering the columns\n",
    "\n",
    "df = df[['name', 'position', 'team', 'vfm', 'value', 'pts', 'month_pts', \n",
    "         'week_pts', 'status', 'description', 'returns']]\n",
    "\n",
    "df.tail()"
   ]
  },
  {
   "cell_type": "markdown",
   "metadata": {},
   "source": [
    "<br>\n",
    "<br>"
   ]
  },
  {
   "cell_type": "markdown",
   "metadata": {},
   "source": [
    "## Saving the Data to CSV"
   ]
  },
  {
   "cell_type": "markdown",
   "metadata": {},
   "source": [
    "[[back to top](#Sections)]"
   ]
  },
  {
   "cell_type": "code",
   "execution_count": 13,
   "metadata": {
    "collapsed": false
   },
   "outputs": [
    {
     "name": "stdout",
     "output_type": "stream",
     "text": [
      "20141220\n"
     ]
    }
   ],
   "source": [
    "# Getting the current time stamp for the data\n",
    "\n",
    "from datetime import datetime\n",
    "\n",
    "url = 'https://www.dreamteamfc.com/statistics/players/ALL/'\n",
    "r  = requests.get(url)\n",
    "data = r.text\n",
    "soup = BeautifulSoup(data)\n",
    "\n",
    "raw_date = soup.find('li', {'class' : 'pointsupdateinfo' }).text\n",
    "raw_date = raw_date.split()[-1].replace('/', '').strip()\n",
    "d = datetime.strptime(raw_date, '%d%m%Y').date()\n",
    "date = d.strftime('%Y%m%d')\n",
    "print(date)"
   ]
  },
  {
   "cell_type": "code",
   "execution_count": 14,
   "metadata": {
    "collapsed": false
   },
   "outputs": [],
   "source": [
    "df.to_csv('../data/dreamteamfc_%s.csv' % date, index=False)"
   ]
  },
  {
   "cell_type": "markdown",
   "metadata": {},
   "source": [
    "<br>\n",
    "<br>"
   ]
  },
  {
   "cell_type": "markdown",
   "metadata": {},
   "source": [
    "# espnfc.com"
   ]
  },
  {
   "cell_type": "markdown",
   "metadata": {},
   "source": [
    "[[back to top](#Sections)]"
   ]
  },
  {
   "cell_type": "markdown",
   "metadata": {},
   "source": [
    "<br>\n",
    "<br>"
   ]
  },
  {
   "cell_type": "markdown",
   "metadata": {},
   "source": [
    "## Getting Team Ranks and Stats"
   ]
  },
  {
   "cell_type": "markdown",
   "metadata": {},
   "source": [
    "[[back to top](#Sections)]"
   ]
  },
  {
   "cell_type": "code",
   "execution_count": 2,
   "metadata": {
    "collapsed": false
   },
   "outputs": [],
   "source": [
    "import pandas as pd\n",
    "from bs4 import BeautifulSoup\n",
    "import bs4\n",
    "import requests"
   ]
  },
  {
   "cell_type": "code",
   "execution_count": 13,
   "metadata": {
    "collapsed": false
   },
   "outputs": [],
   "source": [
    "# Downloading and parsing the data into a Python dict\n",
    "\n",
    "team_dict = {}\n",
    "\n",
    "url = 'http://www.espnfc.com/barclays-premier-league/23/table'\n",
    "r  = requests.get(url)\n",
    "soup = BeautifulSoup(r.text, 'html5lib') \n",
    "# Note: html5lib deals better with broken html than lxml\n",
    "\n",
    "for td in soup.findAll('td', { 'class' : 'pos' }):\n",
    "    rank = int(td.text)\n",
    "    res = [i.text for i in td.next_siblings if isinstance(i, bs4.element.Tag) and i.text!='\\xa0']\n",
    "    team_name = res[0].strip()\n",
    "    values = [int(i) for i in res[1:]]\n",
    "    team_dict[team_name] = [rank] + values"
   ]
  },
  {
   "cell_type": "markdown",
   "metadata": {},
   "source": [
    "Column legend:\n",
    "\n",
    "- Pos: POSITION\n",
    "- P: GAMES PLAYED \n",
    "- W: WINS \n",
    "- D: DRAWS \n",
    "- L: LOSSES \n",
    "- F: GOALS FOR \n",
    "- A: GOALS AGAINST \n",
    "- GD: GOAL DIFFERENCE \n",
    "- PTS: POINTS\n",
    "\n",
    "suffixes:\n",
    "- _ov: OVERALL\n",
    "- _hm: HOME GAMES\n",
    "- _aw: AWAY GAMES"
   ]
  },
  {
   "cell_type": "code",
   "execution_count": 14,
   "metadata": {
    "collapsed": false
   },
   "outputs": [
    {
     "data": {
      "text/html": [
       "<div style=\"max-height:1000px;max-width:1500px;overflow:auto;\">\n",
       "<table border=\"1\" class=\"dataframe\">\n",
       "  <thead>\n",
       "    <tr style=\"text-align: right;\">\n",
       "      <th></th>\n",
       "      <th>team</th>\n",
       "      <th>Pos</th>\n",
       "      <th>P_ov</th>\n",
       "      <th>W_ov</th>\n",
       "      <th>D_ov</th>\n",
       "      <th>L_ov</th>\n",
       "      <th>F_ov</th>\n",
       "      <th>A_ov</th>\n",
       "      <th>W_hm</th>\n",
       "      <th>D_hm</th>\n",
       "      <th>L_hm</th>\n",
       "      <th>F_hm</th>\n",
       "      <th>A_hm</th>\n",
       "      <th>W_aw</th>\n",
       "      <th>D_aw</th>\n",
       "      <th>L_aw</th>\n",
       "      <th>F_aw</th>\n",
       "      <th>A_aw</th>\n",
       "      <th>GD</th>\n",
       "      <th>PTS</th>\n",
       "    </tr>\n",
       "  </thead>\n",
       "  <tbody>\n",
       "    <tr>\n",
       "      <th>Chelsea</th>\n",
       "      <td>              Chelsea</td>\n",
       "      <td>  1</td>\n",
       "      <td> 20</td>\n",
       "      <td> 14</td>\n",
       "      <td>  4</td>\n",
       "      <td>  2</td>\n",
       "      <td> 44</td>\n",
       "      <td> 19</td>\n",
       "      <td> 9</td>\n",
       "      <td> 0</td>\n",
       "      <td> 0</td>\n",
       "      <td> 22</td>\n",
       "      <td>  3</td>\n",
       "      <td> 5</td>\n",
       "      <td> 4</td>\n",
       "      <td> 2</td>\n",
       "      <td> 22</td>\n",
       "      <td> 16</td>\n",
       "      <td> 25</td>\n",
       "      <td> 46</td>\n",
       "    </tr>\n",
       "    <tr>\n",
       "      <th>Manchester City</th>\n",
       "      <td>      Manchester City</td>\n",
       "      <td>  2</td>\n",
       "      <td> 20</td>\n",
       "      <td> 14</td>\n",
       "      <td>  4</td>\n",
       "      <td>  2</td>\n",
       "      <td> 44</td>\n",
       "      <td> 19</td>\n",
       "      <td> 7</td>\n",
       "      <td> 2</td>\n",
       "      <td> 1</td>\n",
       "      <td> 20</td>\n",
       "      <td>  9</td>\n",
       "      <td> 7</td>\n",
       "      <td> 2</td>\n",
       "      <td> 1</td>\n",
       "      <td> 24</td>\n",
       "      <td> 10</td>\n",
       "      <td> 25</td>\n",
       "      <td> 46</td>\n",
       "    </tr>\n",
       "    <tr>\n",
       "      <th>Manchester United</th>\n",
       "      <td>    Manchester United</td>\n",
       "      <td>  3</td>\n",
       "      <td> 20</td>\n",
       "      <td> 10</td>\n",
       "      <td>  7</td>\n",
       "      <td>  3</td>\n",
       "      <td> 34</td>\n",
       "      <td> 20</td>\n",
       "      <td> 8</td>\n",
       "      <td> 1</td>\n",
       "      <td> 1</td>\n",
       "      <td> 22</td>\n",
       "      <td>  7</td>\n",
       "      <td> 2</td>\n",
       "      <td> 6</td>\n",
       "      <td> 2</td>\n",
       "      <td> 12</td>\n",
       "      <td> 13</td>\n",
       "      <td> 14</td>\n",
       "      <td> 37</td>\n",
       "    </tr>\n",
       "    <tr>\n",
       "      <th>Southampton</th>\n",
       "      <td>          Southampton</td>\n",
       "      <td>  4</td>\n",
       "      <td> 20</td>\n",
       "      <td> 11</td>\n",
       "      <td>  3</td>\n",
       "      <td>  6</td>\n",
       "      <td> 34</td>\n",
       "      <td> 15</td>\n",
       "      <td> 7</td>\n",
       "      <td> 2</td>\n",
       "      <td> 2</td>\n",
       "      <td> 24</td>\n",
       "      <td>  7</td>\n",
       "      <td> 4</td>\n",
       "      <td> 1</td>\n",
       "      <td> 4</td>\n",
       "      <td> 10</td>\n",
       "      <td>  8</td>\n",
       "      <td> 19</td>\n",
       "      <td> 36</td>\n",
       "    </tr>\n",
       "    <tr>\n",
       "      <th>Tottenham Hotspur</th>\n",
       "      <td>    Tottenham Hotspur</td>\n",
       "      <td>  5</td>\n",
       "      <td> 20</td>\n",
       "      <td> 10</td>\n",
       "      <td>  4</td>\n",
       "      <td>  6</td>\n",
       "      <td> 29</td>\n",
       "      <td> 27</td>\n",
       "      <td> 5</td>\n",
       "      <td> 2</td>\n",
       "      <td> 4</td>\n",
       "      <td> 16</td>\n",
       "      <td> 13</td>\n",
       "      <td> 5</td>\n",
       "      <td> 2</td>\n",
       "      <td> 2</td>\n",
       "      <td> 13</td>\n",
       "      <td> 14</td>\n",
       "      <td>  2</td>\n",
       "      <td> 34</td>\n",
       "    </tr>\n",
       "    <tr>\n",
       "      <th>Arsenal</th>\n",
       "      <td>              Arsenal</td>\n",
       "      <td>  6</td>\n",
       "      <td> 20</td>\n",
       "      <td>  9</td>\n",
       "      <td>  6</td>\n",
       "      <td>  5</td>\n",
       "      <td> 34</td>\n",
       "      <td> 25</td>\n",
       "      <td> 5</td>\n",
       "      <td> 3</td>\n",
       "      <td> 1</td>\n",
       "      <td> 18</td>\n",
       "      <td> 10</td>\n",
       "      <td> 4</td>\n",
       "      <td> 3</td>\n",
       "      <td> 4</td>\n",
       "      <td> 16</td>\n",
       "      <td> 15</td>\n",
       "      <td>  9</td>\n",
       "      <td> 33</td>\n",
       "    </tr>\n",
       "    <tr>\n",
       "      <th>West Ham United</th>\n",
       "      <td>      West Ham United</td>\n",
       "      <td>  7</td>\n",
       "      <td> 20</td>\n",
       "      <td>  9</td>\n",
       "      <td>  5</td>\n",
       "      <td>  6</td>\n",
       "      <td> 31</td>\n",
       "      <td> 24</td>\n",
       "      <td> 6</td>\n",
       "      <td> 2</td>\n",
       "      <td> 3</td>\n",
       "      <td> 16</td>\n",
       "      <td> 10</td>\n",
       "      <td> 3</td>\n",
       "      <td> 3</td>\n",
       "      <td> 3</td>\n",
       "      <td> 15</td>\n",
       "      <td> 14</td>\n",
       "      <td>  7</td>\n",
       "      <td> 32</td>\n",
       "    </tr>\n",
       "    <tr>\n",
       "      <th>Liverpool</th>\n",
       "      <td>            Liverpool</td>\n",
       "      <td>  8</td>\n",
       "      <td> 20</td>\n",
       "      <td>  8</td>\n",
       "      <td>  5</td>\n",
       "      <td>  7</td>\n",
       "      <td> 28</td>\n",
       "      <td> 27</td>\n",
       "      <td> 4</td>\n",
       "      <td> 5</td>\n",
       "      <td> 2</td>\n",
       "      <td> 15</td>\n",
       "      <td> 11</td>\n",
       "      <td> 4</td>\n",
       "      <td> 0</td>\n",
       "      <td> 5</td>\n",
       "      <td> 13</td>\n",
       "      <td> 16</td>\n",
       "      <td>  1</td>\n",
       "      <td> 29</td>\n",
       "    </tr>\n",
       "    <tr>\n",
       "      <th>Swansea City</th>\n",
       "      <td>         Swansea City</td>\n",
       "      <td>  9</td>\n",
       "      <td> 20</td>\n",
       "      <td>  8</td>\n",
       "      <td>  5</td>\n",
       "      <td>  7</td>\n",
       "      <td> 25</td>\n",
       "      <td> 24</td>\n",
       "      <td> 6</td>\n",
       "      <td> 2</td>\n",
       "      <td> 2</td>\n",
       "      <td> 15</td>\n",
       "      <td>  7</td>\n",
       "      <td> 2</td>\n",
       "      <td> 3</td>\n",
       "      <td> 5</td>\n",
       "      <td> 10</td>\n",
       "      <td> 17</td>\n",
       "      <td>  1</td>\n",
       "      <td> 29</td>\n",
       "    </tr>\n",
       "    <tr>\n",
       "      <th>Newcastle United</th>\n",
       "      <td>     Newcastle United</td>\n",
       "      <td> 10</td>\n",
       "      <td> 20</td>\n",
       "      <td>  7</td>\n",
       "      <td>  6</td>\n",
       "      <td>  7</td>\n",
       "      <td> 25</td>\n",
       "      <td> 31</td>\n",
       "      <td> 5</td>\n",
       "      <td> 3</td>\n",
       "      <td> 2</td>\n",
       "      <td> 16</td>\n",
       "      <td> 14</td>\n",
       "      <td> 2</td>\n",
       "      <td> 3</td>\n",
       "      <td> 5</td>\n",
       "      <td>  9</td>\n",
       "      <td> 17</td>\n",
       "      <td> -6</td>\n",
       "      <td> 27</td>\n",
       "    </tr>\n",
       "    <tr>\n",
       "      <th>Stoke City</th>\n",
       "      <td>           Stoke City</td>\n",
       "      <td> 11</td>\n",
       "      <td> 20</td>\n",
       "      <td>  7</td>\n",
       "      <td>  5</td>\n",
       "      <td>  8</td>\n",
       "      <td> 22</td>\n",
       "      <td> 24</td>\n",
       "      <td> 4</td>\n",
       "      <td> 2</td>\n",
       "      <td> 4</td>\n",
       "      <td> 12</td>\n",
       "      <td> 12</td>\n",
       "      <td> 3</td>\n",
       "      <td> 3</td>\n",
       "      <td> 4</td>\n",
       "      <td> 10</td>\n",
       "      <td> 12</td>\n",
       "      <td> -2</td>\n",
       "      <td> 26</td>\n",
       "    </tr>\n",
       "    <tr>\n",
       "      <th>Aston Villa</th>\n",
       "      <td>          Aston Villa</td>\n",
       "      <td> 12</td>\n",
       "      <td> 20</td>\n",
       "      <td>  5</td>\n",
       "      <td>  7</td>\n",
       "      <td>  8</td>\n",
       "      <td> 11</td>\n",
       "      <td> 22</td>\n",
       "      <td> 2</td>\n",
       "      <td> 5</td>\n",
       "      <td> 3</td>\n",
       "      <td>  7</td>\n",
       "      <td> 11</td>\n",
       "      <td> 3</td>\n",
       "      <td> 2</td>\n",
       "      <td> 5</td>\n",
       "      <td>  4</td>\n",
       "      <td> 11</td>\n",
       "      <td>-11</td>\n",
       "      <td> 22</td>\n",
       "    </tr>\n",
       "    <tr>\n",
       "      <th>Everton</th>\n",
       "      <td>              Everton</td>\n",
       "      <td> 13</td>\n",
       "      <td> 20</td>\n",
       "      <td>  5</td>\n",
       "      <td>  6</td>\n",
       "      <td>  9</td>\n",
       "      <td> 29</td>\n",
       "      <td> 33</td>\n",
       "      <td> 3</td>\n",
       "      <td> 3</td>\n",
       "      <td> 3</td>\n",
       "      <td> 16</td>\n",
       "      <td> 15</td>\n",
       "      <td> 2</td>\n",
       "      <td> 3</td>\n",
       "      <td> 6</td>\n",
       "      <td> 13</td>\n",
       "      <td> 18</td>\n",
       "      <td> -4</td>\n",
       "      <td> 21</td>\n",
       "    </tr>\n",
       "    <tr>\n",
       "      <th>Sunderland</th>\n",
       "      <td>           Sunderland</td>\n",
       "      <td> 14</td>\n",
       "      <td> 20</td>\n",
       "      <td>  3</td>\n",
       "      <td> 11</td>\n",
       "      <td>  6</td>\n",
       "      <td> 18</td>\n",
       "      <td> 30</td>\n",
       "      <td> 1</td>\n",
       "      <td> 6</td>\n",
       "      <td> 3</td>\n",
       "      <td> 10</td>\n",
       "      <td> 15</td>\n",
       "      <td> 2</td>\n",
       "      <td> 5</td>\n",
       "      <td> 3</td>\n",
       "      <td>  8</td>\n",
       "      <td> 15</td>\n",
       "      <td>-12</td>\n",
       "      <td> 20</td>\n",
       "    </tr>\n",
       "    <tr>\n",
       "      <th>Hull City</th>\n",
       "      <td>            Hull City</td>\n",
       "      <td> 15</td>\n",
       "      <td> 20</td>\n",
       "      <td>  4</td>\n",
       "      <td>  7</td>\n",
       "      <td>  9</td>\n",
       "      <td> 20</td>\n",
       "      <td> 26</td>\n",
       "      <td> 2</td>\n",
       "      <td> 3</td>\n",
       "      <td> 5</td>\n",
       "      <td> 10</td>\n",
       "      <td> 12</td>\n",
       "      <td> 2</td>\n",
       "      <td> 4</td>\n",
       "      <td> 4</td>\n",
       "      <td> 10</td>\n",
       "      <td> 14</td>\n",
       "      <td> -6</td>\n",
       "      <td> 19</td>\n",
       "    </tr>\n",
       "    <tr>\n",
       "      <th>Queens Park Rangers</th>\n",
       "      <td>  Queens Park Rangers</td>\n",
       "      <td> 16</td>\n",
       "      <td> 20</td>\n",
       "      <td>  5</td>\n",
       "      <td>  4</td>\n",
       "      <td> 11</td>\n",
       "      <td> 22</td>\n",
       "      <td> 35</td>\n",
       "      <td> 5</td>\n",
       "      <td> 4</td>\n",
       "      <td> 2</td>\n",
       "      <td> 18</td>\n",
       "      <td> 13</td>\n",
       "      <td> 0</td>\n",
       "      <td> 0</td>\n",
       "      <td> 9</td>\n",
       "      <td>  4</td>\n",
       "      <td> 22</td>\n",
       "      <td>-13</td>\n",
       "      <td> 19</td>\n",
       "    </tr>\n",
       "    <tr>\n",
       "      <th>West Bromwich Albion</th>\n",
       "      <td> West Bromwich Albion</td>\n",
       "      <td> 17</td>\n",
       "      <td> 20</td>\n",
       "      <td>  4</td>\n",
       "      <td>  6</td>\n",
       "      <td> 10</td>\n",
       "      <td> 19</td>\n",
       "      <td> 29</td>\n",
       "      <td> 2</td>\n",
       "      <td> 3</td>\n",
       "      <td> 5</td>\n",
       "      <td> 13</td>\n",
       "      <td> 16</td>\n",
       "      <td> 2</td>\n",
       "      <td> 3</td>\n",
       "      <td> 5</td>\n",
       "      <td>  6</td>\n",
       "      <td> 13</td>\n",
       "      <td>-10</td>\n",
       "      <td> 18</td>\n",
       "    </tr>\n",
       "    <tr>\n",
       "      <th>Crystal Palace</th>\n",
       "      <td>       Crystal Palace</td>\n",
       "      <td> 18</td>\n",
       "      <td> 20</td>\n",
       "      <td>  3</td>\n",
       "      <td>  8</td>\n",
       "      <td>  9</td>\n",
       "      <td> 20</td>\n",
       "      <td> 30</td>\n",
       "      <td> 2</td>\n",
       "      <td> 2</td>\n",
       "      <td> 5</td>\n",
       "      <td> 10</td>\n",
       "      <td> 14</td>\n",
       "      <td> 1</td>\n",
       "      <td> 6</td>\n",
       "      <td> 4</td>\n",
       "      <td> 10</td>\n",
       "      <td> 16</td>\n",
       "      <td>-10</td>\n",
       "      <td> 17</td>\n",
       "    </tr>\n",
       "    <tr>\n",
       "      <th>Burnley</th>\n",
       "      <td>              Burnley</td>\n",
       "      <td> 19</td>\n",
       "      <td> 20</td>\n",
       "      <td>  3</td>\n",
       "      <td>  8</td>\n",
       "      <td>  9</td>\n",
       "      <td> 17</td>\n",
       "      <td> 32</td>\n",
       "      <td> 2</td>\n",
       "      <td> 4</td>\n",
       "      <td> 4</td>\n",
       "      <td>  7</td>\n",
       "      <td> 12</td>\n",
       "      <td> 1</td>\n",
       "      <td> 4</td>\n",
       "      <td> 5</td>\n",
       "      <td> 10</td>\n",
       "      <td> 20</td>\n",
       "      <td>-15</td>\n",
       "      <td> 17</td>\n",
       "    </tr>\n",
       "    <tr>\n",
       "      <th>Leicester City</th>\n",
       "      <td>       Leicester City</td>\n",
       "      <td> 20</td>\n",
       "      <td> 20</td>\n",
       "      <td>  3</td>\n",
       "      <td>  5</td>\n",
       "      <td> 12</td>\n",
       "      <td> 19</td>\n",
       "      <td> 33</td>\n",
       "      <td> 1</td>\n",
       "      <td> 4</td>\n",
       "      <td> 4</td>\n",
       "      <td> 12</td>\n",
       "      <td> 15</td>\n",
       "      <td> 2</td>\n",
       "      <td> 1</td>\n",
       "      <td> 8</td>\n",
       "      <td>  7</td>\n",
       "      <td> 18</td>\n",
       "      <td>-14</td>\n",
       "      <td> 14</td>\n",
       "    </tr>\n",
       "  </tbody>\n",
       "</table>\n",
       "</div>"
      ],
      "text/plain": [
       "                                      team  Pos  P_ov  W_ov  D_ov  L_ov  F_ov  \\\n",
       "Chelsea                            Chelsea    1    20    14     4     2    44   \n",
       "Manchester City            Manchester City    2    20    14     4     2    44   \n",
       "Manchester United        Manchester United    3    20    10     7     3    34   \n",
       "Southampton                    Southampton    4    20    11     3     6    34   \n",
       "Tottenham Hotspur        Tottenham Hotspur    5    20    10     4     6    29   \n",
       "Arsenal                            Arsenal    6    20     9     6     5    34   \n",
       "West Ham United            West Ham United    7    20     9     5     6    31   \n",
       "Liverpool                        Liverpool    8    20     8     5     7    28   \n",
       "Swansea City                  Swansea City    9    20     8     5     7    25   \n",
       "Newcastle United          Newcastle United   10    20     7     6     7    25   \n",
       "Stoke City                      Stoke City   11    20     7     5     8    22   \n",
       "Aston Villa                    Aston Villa   12    20     5     7     8    11   \n",
       "Everton                            Everton   13    20     5     6     9    29   \n",
       "Sunderland                      Sunderland   14    20     3    11     6    18   \n",
       "Hull City                        Hull City   15    20     4     7     9    20   \n",
       "Queens Park Rangers    Queens Park Rangers   16    20     5     4    11    22   \n",
       "West Bromwich Albion  West Bromwich Albion   17    20     4     6    10    19   \n",
       "Crystal Palace              Crystal Palace   18    20     3     8     9    20   \n",
       "Burnley                            Burnley   19    20     3     8     9    17   \n",
       "Leicester City              Leicester City   20    20     3     5    12    19   \n",
       "\n",
       "                      A_ov  W_hm  D_hm  L_hm  F_hm  A_hm  W_aw  D_aw  L_aw  \\\n",
       "Chelsea                 19     9     0     0    22     3     5     4     2   \n",
       "Manchester City         19     7     2     1    20     9     7     2     1   \n",
       "Manchester United       20     8     1     1    22     7     2     6     2   \n",
       "Southampton             15     7     2     2    24     7     4     1     4   \n",
       "Tottenham Hotspur       27     5     2     4    16    13     5     2     2   \n",
       "Arsenal                 25     5     3     1    18    10     4     3     4   \n",
       "West Ham United         24     6     2     3    16    10     3     3     3   \n",
       "Liverpool               27     4     5     2    15    11     4     0     5   \n",
       "Swansea City            24     6     2     2    15     7     2     3     5   \n",
       "Newcastle United        31     5     3     2    16    14     2     3     5   \n",
       "Stoke City              24     4     2     4    12    12     3     3     4   \n",
       "Aston Villa             22     2     5     3     7    11     3     2     5   \n",
       "Everton                 33     3     3     3    16    15     2     3     6   \n",
       "Sunderland              30     1     6     3    10    15     2     5     3   \n",
       "Hull City               26     2     3     5    10    12     2     4     4   \n",
       "Queens Park Rangers     35     5     4     2    18    13     0     0     9   \n",
       "West Bromwich Albion    29     2     3     5    13    16     2     3     5   \n",
       "Crystal Palace          30     2     2     5    10    14     1     6     4   \n",
       "Burnley                 32     2     4     4     7    12     1     4     5   \n",
       "Leicester City          33     1     4     4    12    15     2     1     8   \n",
       "\n",
       "                      F_aw  A_aw  GD  PTS  \n",
       "Chelsea                 22    16  25   46  \n",
       "Manchester City         24    10  25   46  \n",
       "Manchester United       12    13  14   37  \n",
       "Southampton             10     8  19   36  \n",
       "Tottenham Hotspur       13    14   2   34  \n",
       "Arsenal                 16    15   9   33  \n",
       "West Ham United         15    14   7   32  \n",
       "Liverpool               13    16   1   29  \n",
       "Swansea City            10    17   1   29  \n",
       "Newcastle United         9    17  -6   27  \n",
       "Stoke City              10    12  -2   26  \n",
       "Aston Villa              4    11 -11   22  \n",
       "Everton                 13    18  -4   21  \n",
       "Sunderland               8    15 -12   20  \n",
       "Hull City               10    14  -6   19  \n",
       "Queens Park Rangers      4    22 -13   19  \n",
       "West Bromwich Albion     6    13 -10   18  \n",
       "Crystal Palace          10    16 -10   17  \n",
       "Burnley                 10    20 -15   17  \n",
       "Leicester City           7    18 -14   14  "
      ]
     },
     "execution_count": 14,
     "metadata": {},
     "output_type": "execute_result"
    }
   ],
   "source": [
    "df = pd.DataFrame.from_dict(team_dict, orient='index')\n",
    "cols = ['Pos','P_ov','W_ov','D_ov','L_ov','F_ov','A_ov',\n",
    "            'W_hm','D_hm','L_hm','F_hm','A_hm', 'W_aw',\n",
    "            'D_aw','L_aw','F_aw','A_aw','GD','PTS']\n",
    "df.columns = cols\n",
    "df = df.sort('Pos')\n",
    "df['team'] = df.index\n",
    "df = df[['team']+cols]\n",
    "df"
   ]
  },
  {
   "cell_type": "markdown",
   "metadata": {},
   "source": [
    "<br>\n",
    "<br>"
   ]
  },
  {
   "cell_type": "markdown",
   "metadata": {},
   "source": [
    "## Saving ESPN Data to CSV"
   ]
  },
  {
   "cell_type": "markdown",
   "metadata": {},
   "source": [
    "[[back to top](#Sections)]"
   ]
  },
  {
   "cell_type": "code",
   "execution_count": 12,
   "metadata": {
    "collapsed": false
   },
   "outputs": [],
   "source": [
    "df.to_csv('../data/2014_epl_day_17/espn_20141222.csv', index=False)"
   ]
  },
  {
   "cell_type": "markdown",
   "metadata": {},
   "source": [
    "<br>\n",
    "<br>"
   ]
  },
  {
   "cell_type": "markdown",
   "metadata": {},
   "source": [
    "## Getting Top Scorer"
   ]
  },
  {
   "cell_type": "markdown",
   "metadata": {},
   "source": [
    "[[back to top](#Sections)]"
   ]
  },
  {
   "cell_type": "code",
   "execution_count": 10,
   "metadata": {
    "collapsed": false
   },
   "outputs": [
    {
     "data": {
      "text/html": [
       "<div style=\"max-height:1000px;max-width:1500px;overflow:auto;\">\n",
       "<table border=\"1\" class=\"dataframe\">\n",
       "  <thead>\n",
       "    <tr style=\"text-align: right;\">\n",
       "      <th></th>\n",
       "      <th>name</th>\n",
       "      <th>team</th>\n",
       "      <th>goals</th>\n",
       "    </tr>\n",
       "  </thead>\n",
       "  <tbody>\n",
       "    <tr>\n",
       "      <th>Diego Costa</th>\n",
       "      <td>        Diego Costa</td>\n",
       "      <td>             Chelsea</td>\n",
       "      <td> 17</td>\n",
       "    </tr>\n",
       "    <tr>\n",
       "      <th>Sergio Agüero</th>\n",
       "      <td>      Sergio Agüero</td>\n",
       "      <td>     Manchester City</td>\n",
       "      <td> 14</td>\n",
       "    </tr>\n",
       "    <tr>\n",
       "      <th>Charlie Austin</th>\n",
       "      <td>     Charlie Austin</td>\n",
       "      <td> Queens Park Rangers</td>\n",
       "      <td> 13</td>\n",
       "    </tr>\n",
       "    <tr>\n",
       "      <th>Alexis Sánchez</th>\n",
       "      <td>     Alexis Sánchez</td>\n",
       "      <td>             Arsenal</td>\n",
       "      <td> 12</td>\n",
       "    </tr>\n",
       "    <tr>\n",
       "      <th>Papiss Demba Cisse</th>\n",
       "      <td> Papiss Demba Cisse</td>\n",
       "      <td>    Newcastle United</td>\n",
       "      <td>  9</td>\n",
       "    </tr>\n",
       "  </tbody>\n",
       "</table>\n",
       "</div>"
      ],
      "text/plain": [
       "                                  name                 team  goals\n",
       "Diego Costa                Diego Costa              Chelsea     17\n",
       "Sergio Agüero            Sergio Agüero      Manchester City     14\n",
       "Charlie Austin          Charlie Austin  Queens Park Rangers     13\n",
       "Alexis Sánchez          Alexis Sánchez              Arsenal     12\n",
       "Papiss Demba Cisse  Papiss Demba Cisse     Newcastle United      9"
      ]
     },
     "execution_count": 10,
     "metadata": {},
     "output_type": "execute_result"
    }
   ],
   "source": [
    "# Downloading and parsing the data into a Python dict\n",
    "\n",
    "player_dict = {}\n",
    "\n",
    "url = 'http://www.espnfc.com/barclays-premier-league/23/statistics/scorers'\n",
    "\n",
    "r  = requests.get(url)\n",
    "soup = BeautifulSoup(r.text, 'html5lib') \n",
    "# Note: html5lib deals better with broken html than lxml\n",
    "\n",
    "for td in soup.findAll('td', { 'headers' : 'player' }):\n",
    "    name = td.text\n",
    "    team, goals = [i.text for i in td.next_siblings if isinstance(i, bs4.element.Tag) and i.text!='\\xa0']\n",
    "    player_dict[name] = [team, int(goals)]\n",
    "    \n",
    "df_essc = pd.DataFrame.from_dict(player_dict, orient='index')\n",
    "df_essc['name'] = df_essc.index\n",
    "df_essc.columns = ['team', 'goals', 'name']\n",
    "df_essc = df_essc[['name', 'team', 'goals']]\n",
    "df_essc.sort('goals', ascending=False, inplace=True)\n",
    "df_essc.head()"
   ]
  },
  {
   "cell_type": "markdown",
   "metadata": {},
   "source": [
    "<br>\n",
    "<br>"
   ]
  },
  {
   "cell_type": "markdown",
   "metadata": {},
   "source": [
    "## Getting Top Assists"
   ]
  },
  {
   "cell_type": "markdown",
   "metadata": {},
   "source": [
    "[[back to top](#Sections)]"
   ]
  },
  {
   "cell_type": "code",
   "execution_count": 8,
   "metadata": {
    "collapsed": false
   },
   "outputs": [
    {
     "data": {
      "text/html": [
       "<div style=\"max-height:1000px;max-width:1500px;overflow:auto;\">\n",
       "<table border=\"1\" class=\"dataframe\">\n",
       "  <thead>\n",
       "    <tr style=\"text-align: right;\">\n",
       "      <th></th>\n",
       "      <th>name</th>\n",
       "      <th>team</th>\n",
       "      <th>assists</th>\n",
       "    </tr>\n",
       "  </thead>\n",
       "  <tbody>\n",
       "    <tr>\n",
       "      <th>Cesc Fàbregas</th>\n",
       "      <td>    Cesc Fàbregas</td>\n",
       "      <td>         Chelsea</td>\n",
       "      <td> 15</td>\n",
       "    </tr>\n",
       "    <tr>\n",
       "      <th>Gylfi Sigurdsson</th>\n",
       "      <td> Gylfi Sigurdsson</td>\n",
       "      <td>    Swansea City</td>\n",
       "      <td>  8</td>\n",
       "    </tr>\n",
       "    <tr>\n",
       "      <th>Leighton Baines</th>\n",
       "      <td>  Leighton Baines</td>\n",
       "      <td>         Everton</td>\n",
       "      <td>  8</td>\n",
       "    </tr>\n",
       "    <tr>\n",
       "      <th>Stewart Downing</th>\n",
       "      <td>  Stewart Downing</td>\n",
       "      <td> West Ham United</td>\n",
       "      <td>  7</td>\n",
       "    </tr>\n",
       "    <tr>\n",
       "      <th>Dusan Tadic</th>\n",
       "      <td>      Dusan Tadic</td>\n",
       "      <td>     Southampton</td>\n",
       "      <td>  7</td>\n",
       "    </tr>\n",
       "  </tbody>\n",
       "</table>\n",
       "</div>"
      ],
      "text/plain": [
       "                              name             team  assists\n",
       "Cesc Fàbregas        Cesc Fàbregas          Chelsea       15\n",
       "Gylfi Sigurdsson  Gylfi Sigurdsson     Swansea City        8\n",
       "Leighton Baines    Leighton Baines          Everton        8\n",
       "Stewart Downing    Stewart Downing  West Ham United        7\n",
       "Dusan Tadic            Dusan Tadic      Southampton        7"
      ]
     },
     "execution_count": 8,
     "metadata": {},
     "output_type": "execute_result"
    }
   ],
   "source": [
    "player_dict = {}\n",
    "\n",
    "url = 'http://www.espnfc.com/barclays-premier-league/23/statistics/assists'\n",
    "\n",
    "r  = requests.get(url)\n",
    "soup = BeautifulSoup(r.text, 'html5lib') \n",
    "# Note: html5lib deals better with broken html than lxml\n",
    "\n",
    "for td in soup.findAll('td', { 'headers' : 'player' }):\n",
    "    name = td.text\n",
    "    team, assists = [i.text for i in td.next_siblings if isinstance(i, bs4.element.Tag) and i.text!='\\xa0']\n",
    "    player_dict[name] = [team, int(assists)]\n",
    "    \n",
    "df_esas = pd.DataFrame.from_dict(player_dict, orient='index')\n",
    "df_esas['name'] = df_esas.index\n",
    "df_esas.columns = ['team', 'assists', 'name']\n",
    "df_esas = df_esas[['name', 'team', 'assists']]\n",
    "df_esas.sort('assists', ascending=False, inplace=True)\n",
    "df_esas.head()"
   ]
  },
  {
   "cell_type": "markdown",
   "metadata": {},
   "source": [
    "<br>\n",
    "<br>"
   ]
  },
  {
   "cell_type": "markdown",
   "metadata": {},
   "source": [
    "# 365stats.com"
   ]
  },
  {
   "cell_type": "markdown",
   "metadata": {},
   "source": [
    "[[back to top](#Sections)]"
   ]
  },
  {
   "cell_type": "markdown",
   "metadata": {},
   "source": [
    "<br>\n",
    "<br>"
   ]
  },
  {
   "cell_type": "markdown",
   "metadata": {},
   "source": [
    "## Getting Injury Data"
   ]
  },
  {
   "cell_type": "markdown",
   "metadata": {},
   "source": [
    "[[back to top](#Sections)]"
   ]
  },
  {
   "cell_type": "code",
   "execution_count": 1,
   "metadata": {
    "collapsed": false
   },
   "outputs": [],
   "source": [
    "import pandas as pd\n",
    "from bs4 import BeautifulSoup\n",
    "import bs4\n",
    "import requests"
   ]
  },
  {
   "cell_type": "code",
   "execution_count": 2,
   "metadata": {
    "collapsed": false
   },
   "outputs": [],
   "source": [
    "# Downloading and parsing the data into a Python dict\n",
    "\n",
    "injury_dict = {}\n",
    "\n",
    "url = 'http://365stats.com/football/injuries'\n",
    "r  = requests.get(url)\n",
    "soup = BeautifulSoup(r.text, 'html5lib') \n",
    "# Note: html5lib deals better with broken html than lxml\n",
    "\n",
    "for td in soup.findAll('td', { 'nowrap' : 'nowrap' }):\n",
    "    name = td.text.split()\n",
    "    player_info = ['%s, %s' % (' '.join(name[1:]), name[0])]\n",
    "    for i in td.next_siblings:\n",
    "        if isinstance(i, bs4.Tag):\n",
    "            player_info.append(i.text)\n",
    "    injury_dict[player_info[0]] = player_info[1:3]"
   ]
  },
  {
   "cell_type": "code",
   "execution_count": 3,
   "metadata": {
    "collapsed": false
   },
   "outputs": [
    {
     "data": {
      "text/html": [
       "<div style=\"max-height:1000px;max-width:1500px;overflow:auto;\">\n",
       "<table border=\"1\" class=\"dataframe\">\n",
       "  <thead>\n",
       "    <tr style=\"text-align: right;\">\n",
       "      <th></th>\n",
       "      <th>name</th>\n",
       "      <th>injury</th>\n",
       "      <th>returns</th>\n",
       "    </tr>\n",
       "  </thead>\n",
       "  <tbody>\n",
       "    <tr>\n",
       "      <th>Osman, L</th>\n",
       "      <td>   Osman, L</td>\n",
       "      <td>    Calf/Shin Injury</td>\n",
       "      <td> no date</td>\n",
       "    </tr>\n",
       "    <tr>\n",
       "      <th>Hibbert, T</th>\n",
       "      <td> Hibbert, T</td>\n",
       "      <td>    Muscular Injury </td>\n",
       "      <td> 2 Weeks</td>\n",
       "    </tr>\n",
       "    <tr>\n",
       "      <th>Moses, V</th>\n",
       "      <td>   Moses, V</td>\n",
       "      <td> Thigh Muscle Strain</td>\n",
       "      <td> 2 Weeks</td>\n",
       "    </tr>\n",
       "    <tr>\n",
       "      <th>Taarabt, A</th>\n",
       "      <td> Taarabt, A</td>\n",
       "      <td> Groin/Pelvis Injury</td>\n",
       "      <td> no date</td>\n",
       "    </tr>\n",
       "    <tr>\n",
       "      <th>Ward, S</th>\n",
       "      <td>    Ward, S</td>\n",
       "      <td>   Ankle/Foot Injury</td>\n",
       "      <td> no date</td>\n",
       "    </tr>\n",
       "  </tbody>\n",
       "</table>\n",
       "</div>"
      ],
      "text/plain": [
       "                  name               injury  returns\n",
       "Osman, L      Osman, L     Calf/Shin Injury  no date\n",
       "Hibbert, T  Hibbert, T     Muscular Injury   2 Weeks\n",
       "Moses, V      Moses, V  Thigh Muscle Strain  2 Weeks\n",
       "Taarabt, A  Taarabt, A  Groin/Pelvis Injury  no date\n",
       "Ward, S        Ward, S    Ankle/Foot Injury  no date"
      ]
     },
     "execution_count": 3,
     "metadata": {},
     "output_type": "execute_result"
    }
   ],
   "source": [
    "df = pd.DataFrame.from_dict(injury_dict, orient='index')\n",
    "df.columns=['injury', 'returns']\n",
    "df['name'] = df.index\n",
    "df = df[['name', 'injury', 'returns']]\n",
    "df.tail()"
   ]
  },
  {
   "cell_type": "markdown",
   "metadata": {},
   "source": [
    "<br>\n",
    "<br>"
   ]
  },
  {
   "cell_type": "markdown",
   "metadata": {},
   "source": [
    "## Saving 365stats Data to CSV"
   ]
  },
  {
   "cell_type": "markdown",
   "metadata": {},
   "source": [
    "[[back to top](#Sections)]"
   ]
  },
  {
   "cell_type": "code",
   "execution_count": 4,
   "metadata": {
    "collapsed": false
   },
   "outputs": [],
   "source": [
    "df.to_csv('../data/2014_epl_day_17/365stats_injury_20141222.csv')"
   ]
  },
  {
   "cell_type": "markdown",
   "metadata": {},
   "source": [
    "<br>\n",
    "<br>"
   ]
  },
  {
   "cell_type": "markdown",
   "metadata": {},
   "source": [
    "# Transfermarkt.com"
   ]
  },
  {
   "cell_type": "markdown",
   "metadata": {},
   "source": [
    "[[back to top](#Sections)]"
   ]
  },
  {
   "cell_type": "markdown",
   "metadata": {},
   "source": [
    "<br>\n",
    "<br>"
   ]
  },
  {
   "cell_type": "markdown",
   "metadata": {},
   "source": [
    "### Getting Home and Away Teams"
   ]
  },
  {
   "cell_type": "markdown",
   "metadata": {},
   "source": [
    "[[back to top](#Sections)]"
   ]
  },
  {
   "cell_type": "code",
   "execution_count": 1,
   "metadata": {
    "collapsed": false
   },
   "outputs": [],
   "source": [
    "import pandas as pd\n",
    "from bs4 import BeautifulSoup\n",
    "import bs4\n",
    "import requests"
   ]
  },
  {
   "cell_type": "code",
   "execution_count": 2,
   "metadata": {
    "collapsed": false
   },
   "outputs": [
    {
     "data": {
      "text/html": [
       "<div>\n",
       "<table border=\"1\" class=\"dataframe\">\n",
       "  <thead>\n",
       "    <tr style=\"text-align: right;\">\n",
       "      <th></th>\n",
       "      <th>home</th>\n",
       "      <th>away</th>\n",
       "    </tr>\n",
       "  </thead>\n",
       "  <tbody>\n",
       "    <tr>\n",
       "      <th>0</th>\n",
       "      <td>Norwich</td>\n",
       "      <td>Manchester City</td>\n",
       "    </tr>\n",
       "    <tr>\n",
       "      <th>1</th>\n",
       "      <td>Manchester Utd.</td>\n",
       "      <td>Crystal Palace</td>\n",
       "    </tr>\n",
       "    <tr>\n",
       "      <th>2</th>\n",
       "      <td>Bournemouth</td>\n",
       "      <td>Swansea</td>\n",
       "    </tr>\n",
       "    <tr>\n",
       "      <th>3</th>\n",
       "      <td>Stoke City</td>\n",
       "      <td>Southampton FC</td>\n",
       "    </tr>\n",
       "    <tr>\n",
       "      <th>4</th>\n",
       "      <td>West Ham</td>\n",
       "      <td>Watford</td>\n",
       "    </tr>\n",
       "    <tr>\n",
       "      <th>5</th>\n",
       "      <td>Sunderland</td>\n",
       "      <td>Everton</td>\n",
       "    </tr>\n",
       "    <tr>\n",
       "      <th>6</th>\n",
       "      <td>Arsenal FC</td>\n",
       "      <td>West Brom</td>\n",
       "    </tr>\n",
       "    <tr>\n",
       "      <th>7</th>\n",
       "      <td>Aston Villa</td>\n",
       "      <td>Spurs</td>\n",
       "    </tr>\n",
       "    <tr>\n",
       "      <th>8</th>\n",
       "      <td>Liverpool</td>\n",
       "      <td>Chelsea FC</td>\n",
       "    </tr>\n",
       "    <tr>\n",
       "      <th>9</th>\n",
       "      <td>Leicester City</td>\n",
       "      <td>Newcastle</td>\n",
       "    </tr>\n",
       "  </tbody>\n",
       "</table>\n",
       "</div>"
      ],
      "text/plain": [
       "              home             away\n",
       "0          Norwich  Manchester City\n",
       "1  Manchester Utd.   Crystal Palace\n",
       "2      Bournemouth          Swansea\n",
       "3       Stoke City   Southampton FC\n",
       "4         West Ham          Watford\n",
       "5       Sunderland          Everton\n",
       "6       Arsenal FC        West Brom\n",
       "7      Aston Villa            Spurs\n",
       "8        Liverpool       Chelsea FC\n",
       "9   Leicester City        Newcastle"
      ]
     },
     "execution_count": 2,
     "metadata": {},
     "output_type": "execute_result"
    }
   ],
   "source": [
    "# Downloading and parsing the data into a Python dict   \n",
    "    \n",
    "url = 'http://www.transfermarkt.com/premier-league/startseite/wettbewerb/GB1'\n",
    "\n",
    "s = requests.Session()\n",
    "s.headers['User-Agent'] = 'Mozilla/5.0 (X11; Linux x86_64) AppleWebKit/537.36 (KHTML, like Gecko) Ubuntu Chromium/34.0.1847.116 Chrome/34.0.1847.116 Safari/537.36'\n",
    "s.headers['Host'] = 'www.transfermarkt.com'\n",
    "url = 'http://www.transfermarkt.com/premier-league/startseite/wettbewerb/GB1'\n",
    "r = s.get(url)\n",
    "\n",
    "soup = BeautifulSoup(r.text, 'html5lib') \n",
    "# Note: html5lib deals better with broken html than lxml\n",
    "\n",
    "# Find tab for the upcoming fixtures\n",
    "tab = 'spieltagtabs-2'\n",
    "div = soup.find('div', { 'id' : tab })\n",
    "tit = div.findAll('a', { 'class' : 'ergebnis-link' })\n",
    "if len(tit) > 0:\n",
    "    tab = 'spieltagtabs-3'\n",
    "\n",
    "# Get fixtures\n",
    "home = []\n",
    "away = []\n",
    "\n",
    "div = soup.find('div', { 'id' : tab })\n",
    "for t in div.findAll('td', { 'class' : 'text-right no-border-rechts no-border-links' }):\n",
    "    team = t.text.strip()\n",
    "    if team:\n",
    "        home.append(team)\n",
    "for t in div.findAll('td', { 'class' : 'no-border-links no-border-rechts' }):\n",
    "    team = t.text.strip()\n",
    "    if team:\n",
    "        away.append(team)\n",
    "\n",
    "\n",
    "df = pd.DataFrame(home, columns=['home'])\n",
    "df['away'] = away\n",
    "df"
   ]
  },
  {
   "cell_type": "markdown",
   "metadata": {},
   "source": [
    "<br>\n",
    "<br>"
   ]
  },
  {
   "cell_type": "markdown",
   "metadata": {},
   "source": [
    "### Saving Home and Away Teams to CSV"
   ]
  },
  {
   "cell_type": "markdown",
   "metadata": {},
   "source": [
    "[[back to top](#Sections)]"
   ]
  },
  {
   "cell_type": "code",
   "execution_count": 11,
   "metadata": {
    "collapsed": false
   },
   "outputs": [],
   "source": [
    "df.to_csv('../data/2014_epl_day_19/transfermarkt_20141227.csv', index=False)"
   ]
  },
  {
   "cell_type": "markdown",
   "metadata": {},
   "source": [
    "<br>\n",
    "<br>"
   ]
  },
  {
   "cell_type": "markdown",
   "metadata": {},
   "source": [
    "# premierleague.com"
   ]
  },
  {
   "cell_type": "markdown",
   "metadata": {},
   "source": [
    "[[back to top](#Sections)]"
   ]
  },
  {
   "cell_type": "code",
   "execution_count": 2,
   "metadata": {
    "collapsed": false
   },
   "outputs": [],
   "source": [
    "import pandas as pd\n",
    "from bs4 import BeautifulSoup\n",
    "import bs4\n",
    "import requests"
   ]
  },
  {
   "cell_type": "code",
   "execution_count": 9,
   "metadata": {
    "collapsed": false
   },
   "outputs": [
    {
     "name": "stdout",
     "output_type": "stream",
     "text": [
      "['Spurs', 'Man Utd']\n",
      "['Southampton', 'Chelsea']\n",
      "['Aston Villa', 'Sunderland']\n",
      "['Hull', 'Leicester']\n",
      "['Man City', 'Burnley']\n",
      "['QPR', 'Crystal Palace']\n",
      "['Stoke', 'West Brom']\n",
      "['West Ham', 'Arsenal']\n",
      "['Newcastle', 'Everton']\n",
      "['Leicester', 'Newcastle']\n",
      "['Tranmere', 'Swansea']\n",
      "['West Brom', 'Gateshead']\n",
      "['Liverpool', 'Chelsea']\n",
      "['Paris SG', 'Chelsea']\n",
      "['BSC Young Boys', 'Everton']\n",
      "['Liverpool', 'Besiktas']\n",
      "['Spurs', 'Fiorentina']\n"
     ]
    }
   ],
   "source": [
    "# Downloading and parsing the data into a Python dict\n",
    "\n",
    "url = 'http://www.premierleague.com/en-gb/matchday.html'\n",
    "r  = requests.get(url)\n",
    "soup = BeautifulSoup(r.text, 'html5lib') \n",
    "# Note: html5lib deals better with broken html than lxml\n",
    "\n",
    "home = []\n",
    "away = []\n",
    "\n",
    "for t in soup.findAll('td', { 'width' : '30%' }):\n",
    "    team = t.text.strip().split(' v ')\n",
    "    print(team)\n"
   ]
  },
  {
   "cell_type": "markdown",
   "metadata": {},
   "source": [
    "<br>\n",
    "<br>"
   ]
  },
  {
   "cell_type": "markdown",
   "metadata": {},
   "source": [
    "# telegraph.co.uk"
   ]
  },
  {
   "cell_type": "markdown",
   "metadata": {},
   "source": [
    "[[back to top](#Sections)]"
   ]
  },
  {
   "cell_type": "markdown",
   "metadata": {},
   "source": [
    "<br>\n",
    "<br>"
   ]
  },
  {
   "cell_type": "markdown",
   "metadata": {},
   "source": [
    "## Getting Current Week Points"
   ]
  },
  {
   "cell_type": "markdown",
   "metadata": {},
   "source": [
    "[[back to top](#Sections)]"
   ]
  },
  {
   "cell_type": "code",
   "execution_count": 1,
   "metadata": {
    "collapsed": false
   },
   "outputs": [],
   "source": [
    "import pandas as pd\n",
    "from bs4 import BeautifulSoup\n",
    "import bs4\n",
    "import requests"
   ]
  },
  {
   "cell_type": "code",
   "execution_count": 15,
   "metadata": {
    "collapsed": false
   },
   "outputs": [
    {
     "name": "stdout",
     "output_type": "stream",
     "text": [
      "(548, 6)\n"
     ]
    },
    {
     "data": {
      "text/html": [
       "<div style=\"max-height:1000px;max-width:1500px;overflow:auto;\">\n",
       "<table border=\"1\" class=\"dataframe\">\n",
       "  <thead>\n",
       "    <tr style=\"text-align: right;\">\n",
       "      <th></th>\n",
       "      <th>name</th>\n",
       "      <th>team</th>\n",
       "      <th>salary</th>\n",
       "      <th>pts/salary</th>\n",
       "      <th>week_pts</th>\n",
       "      <th>total_pts</th>\n",
       "    </tr>\n",
       "  </thead>\n",
       "  <tbody>\n",
       "    <tr>\n",
       "      <th>Januzaj, A</th>\n",
       "      <td>  Januzaj, A</td>\n",
       "      <td>    Manchester United</td>\n",
       "      <td> 3.9</td>\n",
       "      <td>  3.8</td>\n",
       "      <td>  1</td>\n",
       "      <td> 15</td>\n",
       "    </tr>\n",
       "    <tr>\n",
       "      <th>Grealish, J</th>\n",
       "      <td> Grealish, J</td>\n",
       "      <td>          Aston Villa</td>\n",
       "      <td> 2.5</td>\n",
       "      <td>  4.0</td>\n",
       "      <td>  3</td>\n",
       "      <td> 10</td>\n",
       "    </tr>\n",
       "    <tr>\n",
       "      <th>Anichebe, V</th>\n",
       "      <td> Anichebe, V</td>\n",
       "      <td> West Bromwich Albion</td>\n",
       "      <td> 4.0</td>\n",
       "      <td>  8.2</td>\n",
       "      <td> 10</td>\n",
       "      <td> 33</td>\n",
       "    </tr>\n",
       "    <tr>\n",
       "      <th>Hibbert, T</th>\n",
       "      <td>  Hibbert, T</td>\n",
       "      <td>              Everton</td>\n",
       "      <td> 2.2</td>\n",
       "      <td>  3.2</td>\n",
       "      <td>  0</td>\n",
       "      <td>  7</td>\n",
       "    </tr>\n",
       "    <tr>\n",
       "      <th>Coutinho, P</th>\n",
       "      <td> Coutinho, P</td>\n",
       "      <td>            Liverpool</td>\n",
       "      <td> 4.4</td>\n",
       "      <td> 11.1</td>\n",
       "      <td>  2</td>\n",
       "      <td> 49</td>\n",
       "    </tr>\n",
       "  </tbody>\n",
       "</table>\n",
       "</div>"
      ],
      "text/plain": [
       "                    name                  team  salary  pts/salary  week_pts  \\\n",
       "Januzaj, A    Januzaj, A     Manchester United     3.9         3.8         1   \n",
       "Grealish, J  Grealish, J           Aston Villa     2.5         4.0         3   \n",
       "Anichebe, V  Anichebe, V  West Bromwich Albion     4.0         8.2        10   \n",
       "Hibbert, T    Hibbert, T               Everton     2.2         3.2         0   \n",
       "Coutinho, P  Coutinho, P             Liverpool     4.4        11.1         2   \n",
       "\n",
       "             total_pts  \n",
       "Januzaj, A          15  \n",
       "Grealish, J         10  \n",
       "Anichebe, V         33  \n",
       "Hibbert, T           7  \n",
       "Coutinho, P         49  "
      ]
     },
     "execution_count": 15,
     "metadata": {},
     "output_type": "execute_result"
    }
   ],
   "source": [
    "url = 'https://fantasyfootball.telegraph.co.uk/premierleague/players/'\n",
    "r  = requests.get(url)\n",
    "soup = BeautifulSoup(r.text, 'html5lib') \n",
    "# Note: html5lib deals better with broken html than lxml\n",
    "\n",
    "player_dict = {}\n",
    "\n",
    "for t in soup.findAll('td', { 'class' : 'first' }):\n",
    "    player = t.text.strip()\n",
    "    player_dict[player] = []\n",
    "    for s in t.next_siblings:\n",
    "        if isinstance(s, bs4.Tag):\n",
    "            player_dict[player].append(s.text)\n",
    "\n",
    "# parse the player dictionary\n",
    "df = pd.DataFrame.from_dict(player_dict, orient='index')\n",
    "\n",
    "# make name column\n",
    "df['name'] = df.index\n",
    "\n",
    "# assign column names and reorder columns\n",
    "df.columns = ['team', 'salary', 'pts/salary', 'week_pts', 'total_pts', 'name']\n",
    "df = df[['name', 'team', 'salary', 'pts/salary', 'week_pts', 'total_pts']]\n",
    "\n",
    "# parse data into the right format\n",
    "df['salary'] = df['salary'].apply(lambda x: x.strip('£').strip(' m'))\n",
    "df[['salary', 'pts/salary']] = df[['salary', 'pts/salary']].astype(float)\n",
    "df[['week_pts', 'total_pts']] = df[['week_pts', 'total_pts']].astype(int)\n",
    "\n",
    "print(df.shape)\n",
    "df.tail()"
   ]
  },
  {
   "cell_type": "markdown",
   "metadata": {},
   "source": [
    "<br>\n",
    "<br>"
   ]
  },
  {
   "cell_type": "markdown",
   "metadata": {},
   "source": [
    "## Getting 6-Week Points"
   ]
  },
  {
   "cell_type": "markdown",
   "metadata": {},
   "source": [
    "[[back to top](#Sections)]"
   ]
  },
  {
   "cell_type": "code",
   "execution_count": 16,
   "metadata": {
    "collapsed": false
   },
   "outputs": [
    {
     "data": {
      "text/html": [
       "<div style=\"max-height:1000px;max-width:1500px;overflow:auto;\">\n",
       "<table border=\"1\" class=\"dataframe\">\n",
       "  <thead>\n",
       "    <tr style=\"text-align: right;\">\n",
       "      <th></th>\n",
       "      <th>name</th>\n",
       "      <th>team</th>\n",
       "      <th>salary</th>\n",
       "      <th>pts/salary</th>\n",
       "      <th>week_pts</th>\n",
       "      <th>total_pts</th>\n",
       "      <th>6week_pts</th>\n",
       "    </tr>\n",
       "  </thead>\n",
       "  <tbody>\n",
       "    <tr>\n",
       "      <th>Januzaj, A</th>\n",
       "      <td>  Januzaj, A</td>\n",
       "      <td>    Manchester United</td>\n",
       "      <td> 3.9</td>\n",
       "      <td>  3.8</td>\n",
       "      <td>  1</td>\n",
       "      <td> 15</td>\n",
       "      <td>  2</td>\n",
       "    </tr>\n",
       "    <tr>\n",
       "      <th>Grealish, J</th>\n",
       "      <td> Grealish, J</td>\n",
       "      <td>          Aston Villa</td>\n",
       "      <td> 2.5</td>\n",
       "      <td>  4.0</td>\n",
       "      <td>  3</td>\n",
       "      <td> 10</td>\n",
       "      <td>  7</td>\n",
       "    </tr>\n",
       "    <tr>\n",
       "      <th>Anichebe, V</th>\n",
       "      <td> Anichebe, V</td>\n",
       "      <td> West Bromwich Albion</td>\n",
       "      <td> 4.0</td>\n",
       "      <td>  8.2</td>\n",
       "      <td> 10</td>\n",
       "      <td> 33</td>\n",
       "      <td> 16</td>\n",
       "    </tr>\n",
       "    <tr>\n",
       "      <th>Hibbert, T</th>\n",
       "      <td>  Hibbert, T</td>\n",
       "      <td>              Everton</td>\n",
       "      <td> 2.2</td>\n",
       "      <td>  3.2</td>\n",
       "      <td>  0</td>\n",
       "      <td>  7</td>\n",
       "      <td>  4</td>\n",
       "    </tr>\n",
       "    <tr>\n",
       "      <th>Coutinho, P</th>\n",
       "      <td> Coutinho, P</td>\n",
       "      <td>            Liverpool</td>\n",
       "      <td> 4.4</td>\n",
       "      <td> 11.1</td>\n",
       "      <td>  2</td>\n",
       "      <td> 49</td>\n",
       "      <td> 27</td>\n",
       "    </tr>\n",
       "  </tbody>\n",
       "</table>\n",
       "</div>"
      ],
      "text/plain": [
       "                    name                  team  salary  pts/salary  week_pts  \\\n",
       "Januzaj, A    Januzaj, A     Manchester United     3.9         3.8         1   \n",
       "Grealish, J  Grealish, J           Aston Villa     2.5         4.0         3   \n",
       "Anichebe, V  Anichebe, V  West Bromwich Albion     4.0         8.2        10   \n",
       "Hibbert, T    Hibbert, T               Everton     2.2         3.2         0   \n",
       "Coutinho, P  Coutinho, P             Liverpool     4.4        11.1         2   \n",
       "\n",
       "             total_pts 6week_pts  \n",
       "Januzaj, A          15         2  \n",
       "Grealish, J         10         7  \n",
       "Anichebe, V         33        16  \n",
       "Hibbert, T           7         4  \n",
       "Coutinho, P         49        27  "
      ]
     },
     "execution_count": 16,
     "metadata": {},
     "output_type": "execute_result"
    }
   ],
   "source": [
    "url = 'https://fantasyfootball.telegraph.co.uk/premierleague/formguide/'\n",
    "r  = requests.get(url)\n",
    "soup = BeautifulSoup(r.text, 'html5lib') \n",
    "# Note: html5lib deals better with broken html than lxml\n",
    "\n",
    "df['6week_pts'] = pd.Series(0, index=df.index)\n",
    "\n",
    "for t in soup.findAll('td', { 'class' : 'first' }):\n",
    "    player = t.text.strip()\n",
    "    if player:\n",
    "        week6 = t.parent.find('td', { 'class' : 'sixth last' })\n",
    "        df.loc[df['name'] == player, '6week_pts'] = week6.text\n",
    "\n",
    "df.tail()"
   ]
  },
  {
   "cell_type": "markdown",
   "metadata": {},
   "source": [
    "<br>\n",
    "<br>"
   ]
  },
  {
   "cell_type": "markdown",
   "metadata": {},
   "source": [
    "## Saving telegraph.co.uk to CSV"
   ]
  },
  {
   "cell_type": "markdown",
   "metadata": {},
   "source": [
    "[[back to top](#Sections)]"
   ]
  },
  {
   "cell_type": "code",
   "execution_count": 39,
   "metadata": {
    "collapsed": false
   },
   "outputs": [],
   "source": [
    "df.to_csv('../data/2014_epl_day_20/telegraph_20141229.csv', index=False)"
   ]
  },
  {
   "cell_type": "markdown",
   "metadata": {},
   "source": [
    "<br>\n",
    "<br>"
   ]
  },
  {
   "cell_type": "markdown",
   "metadata": {},
   "source": [
    "# m.premierleague.com"
   ]
  },
  {
   "cell_type": "markdown",
   "metadata": {},
   "source": [
    "[[back to top](#Sections)]"
   ]
  },
  {
   "cell_type": "markdown",
   "metadata": {},
   "source": [
    "<br>\n",
    "<br>"
   ]
  },
  {
   "cell_type": "markdown",
   "metadata": {},
   "source": [
    "## Combined Form of Previous 6 Days"
   ]
  },
  {
   "cell_type": "markdown",
   "metadata": {},
   "source": [
    "[[back to top](#Sections)]"
   ]
  },
  {
   "cell_type": "code",
   "execution_count": 2,
   "metadata": {
    "collapsed": false
   },
   "outputs": [],
   "source": [
    "import pandas as pd\n",
    "from bs4 import BeautifulSoup\n",
    "import bs4\n",
    "import requests"
   ]
  },
  {
   "cell_type": "code",
   "execution_count": 3,
   "metadata": {
    "collapsed": false
   },
   "outputs": [
    {
     "data": {
      "text/html": [
       "<div style=\"max-height:1000px;max-width:1500px;overflow:auto;\">\n",
       "<table border=\"1\" class=\"dataframe\">\n",
       "  <thead>\n",
       "    <tr style=\"text-align: right;\">\n",
       "      <th></th>\n",
       "      <th>position-last-6-games</th>\n",
       "      <th>team</th>\n",
       "    </tr>\n",
       "  </thead>\n",
       "  <tbody>\n",
       "    <tr>\n",
       "      <th>West Brom</th>\n",
       "      <td> 15</td>\n",
       "      <td>      West Brom</td>\n",
       "    </tr>\n",
       "    <tr>\n",
       "      <th>Hull</th>\n",
       "      <td> 12</td>\n",
       "      <td>           Hull</td>\n",
       "    </tr>\n",
       "    <tr>\n",
       "      <th>Southampton</th>\n",
       "      <td>  9</td>\n",
       "      <td>    Southampton</td>\n",
       "    </tr>\n",
       "    <tr>\n",
       "      <th>Newcastle</th>\n",
       "      <td> 11</td>\n",
       "      <td>      Newcastle</td>\n",
       "    </tr>\n",
       "    <tr>\n",
       "      <th>Crystal Palace</th>\n",
       "      <td> 18</td>\n",
       "      <td> Crystal Palace</td>\n",
       "    </tr>\n",
       "  </tbody>\n",
       "</table>\n",
       "</div>"
      ],
      "text/plain": [
       "               position-last-6-games            team\n",
       "West Brom                         15       West Brom\n",
       "Hull                              12            Hull\n",
       "Southampton                        9     Southampton\n",
       "Newcastle                         11       Newcastle\n",
       "Crystal Palace                    18  Crystal Palace"
      ]
     },
     "execution_count": 3,
     "metadata": {},
     "output_type": "execute_result"
    }
   ],
   "source": [
    "url = 'http://m.premierleague.com/en-gb/form-guide.html'\n",
    "r  = requests.get(url)\n",
    "soup = BeautifulSoup(r.text, 'html5lib') \n",
    "# Note: html5lib deals better with broken html than lxml\n",
    "\n",
    "#df['6week_pts'] = pd.Series(0, index=df.index)\n",
    "\n",
    "team_dict = {}\n",
    "\n",
    "for d in soup.findAll('td', { 'class' : 'col-pos' }):\n",
    "    if len(team_dict) > 20:\n",
    "        break\n",
    "    pos = d.text\n",
    "    for e in d.next_siblings:\n",
    "        if isinstance(e, bs4.Tag):\n",
    "            if 'class' in e.attrs and 'col-club' in e.attrs['class']:\n",
    "                club = e.text\n",
    "                team_dict[club] = pos\n",
    "                break\n",
    "\n",
    "df = pd.DataFrame.from_dict(team_dict, orient='index')\n",
    "        \n",
    "df.columns = ['position-last-6-games']\n",
    "df['team'] = df.index\n",
    "df.tail()"
   ]
  },
  {
   "cell_type": "markdown",
   "metadata": {},
   "source": [
    "<br>\n",
    "<br>"
   ]
  },
  {
   "cell_type": "markdown",
   "metadata": {},
   "source": [
    "## Saving m.premierleague.com to CSV"
   ]
  },
  {
   "cell_type": "markdown",
   "metadata": {},
   "source": [
    "[[back to top](#Sections)]"
   ]
  },
  {
   "cell_type": "code",
   "execution_count": 26,
   "metadata": {
    "collapsed": false
   },
   "outputs": [],
   "source": [
    "df.to_csv('../data/2014_epl_day_20/mpremierleague_20141230.csv', index=False)"
   ]
  },
  {
   "cell_type": "markdown",
   "metadata": {},
   "source": [
    "<br>\n",
    "<br>"
   ]
  },
  {
   "cell_type": "markdown",
   "metadata": {},
   "source": [
    "# fantasyfootballscout.co.uk"
   ]
  },
  {
   "cell_type": "markdown",
   "metadata": {},
   "source": [
    "[[back to top](#Sections)]"
   ]
  },
  {
   "cell_type": "markdown",
   "metadata": {},
   "source": [
    "<br>\n",
    "<br>"
   ]
  },
  {
   "cell_type": "markdown",
   "metadata": {},
   "source": [
    "## Predicted Line-Ups"
   ]
  },
  {
   "cell_type": "markdown",
   "metadata": {},
   "source": [
    "[[back to top](#Sections)]"
   ]
  },
  {
   "cell_type": "code",
   "execution_count": 31,
   "metadata": {
    "collapsed": false
   },
   "outputs": [],
   "source": [
    "import pandas as pd\n",
    "from bs4 import BeautifulSoup\n",
    "import bs4\n",
    "import requests"
   ]
  },
  {
   "cell_type": "code",
   "execution_count": 85,
   "metadata": {
    "collapsed": false
   },
   "outputs": [
    {
     "data": {
      "text/html": [
       "<div style=\"max-height:1000px;max-width:1500px;overflow:auto;\">\n",
       "<table border=\"1\" class=\"dataframe\">\n",
       "  <thead>\n",
       "    <tr style=\"text-align: right;\">\n",
       "      <th></th>\n",
       "      <th>Arsenal</th>\n",
       "      <th>Aston Villa</th>\n",
       "      <th>Burnley</th>\n",
       "      <th>Chelsea</th>\n",
       "      <th>Crystal Palace</th>\n",
       "      <th>Everton</th>\n",
       "      <th>Hull City</th>\n",
       "      <th>Leicester City</th>\n",
       "      <th>Liverpool</th>\n",
       "      <th>Manchester City</th>\n",
       "      <th>Manchester United</th>\n",
       "      <th>Newcastle United</th>\n",
       "      <th>Queens Park Rangers</th>\n",
       "      <th>Southampton</th>\n",
       "      <th>Stoke City</th>\n",
       "      <th>Sunderland</th>\n",
       "      <th>Swansea City</th>\n",
       "      <th>Tottenham Hotspur</th>\n",
       "      <th>West Bromwich Albion</th>\n",
       "      <th>West Ham United</th>\n",
       "    </tr>\n",
       "  </thead>\n",
       "  <tbody>\n",
       "    <tr>\n",
       "      <th>6 </th>\n",
       "      <td>            Flamini</td>\n",
       "      <td>    Sánchez</td>\n",
       "      <td>  Jones</td>\n",
       "      <td>       Matic</td>\n",
       "      <td>   McArthur</td>\n",
       "      <td>    Barry</td>\n",
       "      <td>    Meyler</td>\n",
       "      <td>     Mahrez</td>\n",
       "      <td>    Lucas</td>\n",
       "      <td> Fernandinho</td>\n",
       "      <td>    Carrick</td>\n",
       "      <td>       Tioté</td>\n",
       "      <td>  Henry</td>\n",
       "      <td> Wanyama</td>\n",
       "      <td>           Whelan</td>\n",
       "      <td>  Johnson</td>\n",
       "      <td>         Ki</td>\n",
       "      <td> Bentaleb</td>\n",
       "      <td>  Gardner</td>\n",
       "      <td>   Nolan</td>\n",
       "    </tr>\n",
       "    <tr>\n",
       "      <th>7 </th>\n",
       "      <td>           Coquelin</td>\n",
       "      <td>  Cleverley</td>\n",
       "      <td> Marney</td>\n",
       "      <td>     Willian</td>\n",
       "      <td> Joe Ledley</td>\n",
       "      <td>  Barkley</td>\n",
       "      <td> Livermore</td>\n",
       "      <td> Drinkwater</td>\n",
       "      <td>   Moreno</td>\n",
       "      <td>     Y Touré</td>\n",
       "      <td>     Rooney</td>\n",
       "      <td> Ayoze Pérez</td>\n",
       "      <td> Barton</td>\n",
       "      <td>   Davis</td>\n",
       "      <td> Mame Biram Diouf</td>\n",
       "      <td>  Larsson</td>\n",
       "      <td>       Dyer</td>\n",
       "      <td>   Lamela</td>\n",
       "      <td> Morrison</td>\n",
       "      <td>   Noble</td>\n",
       "    </tr>\n",
       "    <tr>\n",
       "      <th>8 </th>\n",
       "      <td> Oxlade-Chamberlain</td>\n",
       "      <td>   N'Zogbia</td>\n",
       "      <td>   Boyd</td>\n",
       "      <td>       Oscar</td>\n",
       "      <td>    Bolasie</td>\n",
       "      <td> Naismith</td>\n",
       "      <td>     Brady</td>\n",
       "      <td>      James</td>\n",
       "      <td> Coutinho</td>\n",
       "      <td>       Nasri</td>\n",
       "      <td>      Young</td>\n",
       "      <td>     Sissoko</td>\n",
       "      <td>    Fer</td>\n",
       "      <td>    Mane</td>\n",
       "      <td>          Walters</td>\n",
       "      <td>    Gómez</td>\n",
       "      <td> Sigurdsson</td>\n",
       "      <td>  Eriksen</td>\n",
       "      <td>    Brunt</td>\n",
       "      <td> Downing</td>\n",
       "    </tr>\n",
       "    <tr>\n",
       "      <th>9 </th>\n",
       "      <td>            Sánchez</td>\n",
       "      <td>    Benteke</td>\n",
       "      <td> Barnes</td>\n",
       "      <td>      Hazard</td>\n",
       "      <td>       Zaha</td>\n",
       "      <td> Mirallas</td>\n",
       "      <td>     Aluko</td>\n",
       "      <td>      Vardy</td>\n",
       "      <td> Sterling</td>\n",
       "      <td>       Silva</td>\n",
       "      <td>     Falcao</td>\n",
       "      <td>    Gouffran</td>\n",
       "      <td> Zamora</td>\n",
       "      <td>   Tadic</td>\n",
       "      <td>       Arnautovic</td>\n",
       "      <td>  Wickham</td>\n",
       "      <td>  Routledge</td>\n",
       "      <td>   Chadli</td>\n",
       "      <td>  Dorrans</td>\n",
       "      <td>   Sakho</td>\n",
       "    </tr>\n",
       "    <tr>\n",
       "      <th>10</th>\n",
       "      <td>            Cazorla</td>\n",
       "      <td> Agbonlahor</td>\n",
       "      <td>   Ings</td>\n",
       "      <td> Diego Costa</td>\n",
       "      <td>   Campbell</td>\n",
       "      <td>   Lukaku</td>\n",
       "      <td>   Jelavic</td>\n",
       "      <td>      Ulloa</td>\n",
       "      <td>  Lallana</td>\n",
       "      <td>     Jovetic</td>\n",
       "      <td> van Persie</td>\n",
       "      <td>   Armstrong</td>\n",
       "      <td> Austin</td>\n",
       "      <td>   Pellè</td>\n",
       "      <td>           Crouch</td>\n",
       "      <td> Fletcher</td>\n",
       "      <td>       Bony</td>\n",
       "      <td>     Kane</td>\n",
       "      <td> Berahino</td>\n",
       "      <td> Carroll</td>\n",
       "    </tr>\n",
       "  </tbody>\n",
       "</table>\n",
       "</div>"
      ],
      "text/plain": [
       "               Arsenal Aston Villa Burnley      Chelsea Crystal Palace  \\\n",
       "6              Flamini     Sánchez   Jones        Matic       McArthur   \n",
       "7             Coquelin   Cleverley  Marney      Willian     Joe Ledley   \n",
       "8   Oxlade-Chamberlain    N'Zogbia    Boyd        Oscar        Bolasie   \n",
       "9              Sánchez     Benteke  Barnes       Hazard           Zaha   \n",
       "10             Cazorla  Agbonlahor    Ings  Diego Costa       Campbell   \n",
       "\n",
       "     Everton  Hull City Leicester City Liverpool Manchester City  \\\n",
       "6      Barry     Meyler         Mahrez     Lucas     Fernandinho   \n",
       "7    Barkley  Livermore     Drinkwater    Moreno         Y Touré   \n",
       "8   Naismith      Brady          James  Coutinho           Nasri   \n",
       "9   Mirallas      Aluko          Vardy  Sterling           Silva   \n",
       "10    Lukaku    Jelavic          Ulloa   Lallana         Jovetic   \n",
       "\n",
       "   Manchester United Newcastle United Queens Park Rangers Southampton  \\\n",
       "6            Carrick            Tioté               Henry     Wanyama   \n",
       "7             Rooney      Ayoze Pérez              Barton       Davis   \n",
       "8              Young          Sissoko                 Fer        Mane   \n",
       "9             Falcao         Gouffran              Zamora       Tadic   \n",
       "10        van Persie        Armstrong              Austin       Pellè   \n",
       "\n",
       "          Stoke City Sunderland Swansea City Tottenham Hotspur  \\\n",
       "6             Whelan    Johnson           Ki          Bentaleb   \n",
       "7   Mame Biram Diouf    Larsson         Dyer            Lamela   \n",
       "8            Walters      Gómez   Sigurdsson           Eriksen   \n",
       "9         Arnautovic    Wickham    Routledge            Chadli   \n",
       "10            Crouch   Fletcher         Bony              Kane   \n",
       "\n",
       "   West Bromwich Albion West Ham United  \n",
       "6               Gardner           Nolan  \n",
       "7              Morrison           Noble  \n",
       "8                 Brunt         Downing  \n",
       "9               Dorrans           Sakho  \n",
       "10             Berahino         Carroll  "
      ]
     },
     "execution_count": 85,
     "metadata": {},
     "output_type": "execute_result"
    }
   ],
   "source": [
    "url = 'http://www.fantasyfootballscout.co.uk/team-news/'\n",
    "r  = requests.get(url)\n",
    "soup = BeautifulSoup(r.text, 'html5lib') \n",
    "# Note: html5lib deals better with broken html than lxml\n",
    "\n",
    "\n",
    "team_dict = {}\n",
    "\n",
    "for li in soup.findAll('li'):\n",
    "    for h2 in li.findAll('h2'):\n",
    "        team = h2.text\n",
    "        team_dict[team] = []\n",
    "        for p in li.findAll('span', { 'class' : 'player-name' }):\n",
    "            player = p.text\n",
    "            team_dict[team].append(player)\n",
    "                    \n",
    "df = pd.DataFrame.from_dict(team_dict)\n",
    "df.tail()"
   ]
  },
  {
   "cell_type": "markdown",
   "metadata": {},
   "source": [
    "<br>\n",
    "<br>"
   ]
  },
  {
   "cell_type": "markdown",
   "metadata": {},
   "source": [
    "## Saving fantasyfootballscout.co.uk to CSV"
   ]
  },
  {
   "cell_type": "markdown",
   "metadata": {},
   "source": [
    "[[back to top](#Sections)]"
   ]
  },
  {
   "cell_type": "code",
   "execution_count": 86,
   "metadata": {
    "collapsed": false
   },
   "outputs": [],
   "source": [
    "df.to_csv('../data/epl_1314_21/fantasyfootballscout.csv', index=False)"
   ]
  }
 ],
 "metadata": {
  "kernelspec": {
   "display_name": "Python 3",
   "language": "python",
   "name": "python3"
  },
  "language_info": {
   "codemirror_mode": {
    "name": "ipython",
    "version": 3
   },
   "file_extension": ".py",
   "mimetype": "text/x-python",
   "name": "python",
   "nbconvert_exporter": "python",
   "pygments_lexer": "ipython3",
   "version": "3.5.1"
  }
 },
 "nbformat": 4,
 "nbformat_minor": 0
}
