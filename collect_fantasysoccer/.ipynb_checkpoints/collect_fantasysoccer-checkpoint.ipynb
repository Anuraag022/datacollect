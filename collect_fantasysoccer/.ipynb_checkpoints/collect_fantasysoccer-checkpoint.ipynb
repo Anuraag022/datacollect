{
 "metadata": {
  "name": "",
  "signature": "sha256:065c9a7acd19441f0c6f3d5058519e5f699e6b33ac989001f66e8dc1b085a389"
 },
 "nbformat": 3,
 "nbformat_minor": 0,
 "worksheets": [
  {
   "cells": [
    {
     "cell_type": "code",
     "collapsed": false,
     "input": [
      "import bs4"
     ],
     "language": "python",
     "metadata": {},
     "outputs": [],
     "prompt_number": 1
    },
    {
     "cell_type": "code",
     "collapsed": false,
     "input": [
      "%load_ext watermark\n",
      "%watermark -a 'Sebastian Raschka' -v -d -u"
     ],
     "language": "python",
     "metadata": {},
     "outputs": [
      {
       "output_type": "stream",
       "stream": "stdout",
       "text": [
        "Sebastian Raschka \n",
        "Last updated: 03/01/2015 \n",
        "\n",
        "CPython 3.4.2\n",
        "IPython 2.3.1\n"
       ]
      }
     ],
     "prompt_number": 2
    },
    {
     "cell_type": "markdown",
     "metadata": {},
     "source": [
      "[Go back to the GitHub repository](https://github.com/rasbt/datacollect/tree/master/collect_fantasysoccer)"
     ]
    },
    {
     "cell_type": "markdown",
     "metadata": {},
     "source": [
      "<br>\n",
      "<br>"
     ]
    },
    {
     "cell_type": "heading",
     "level": 1,
     "metadata": {},
     "source": [
      "Collecting Premier League and Daily Fantasy Soccer Data"
     ]
    },
    {
     "cell_type": "heading",
     "level": 3,
     "metadata": {},
     "source": [
      "Sections"
     ]
    },
    {
     "cell_type": "markdown",
     "metadata": {},
     "source": [
      "- [dreamteamfc.com](#dreamteamfc.com)\n",
      "    - [Getting General Player Statistics](#Getting-General-Player-Statistics)\n",
      "    - [Getting Injuries and Cards Information](#Getting-Injuries-and-Cards-Information)\n",
      "    - [Getting Player Form Information](#Getting-Player-Form-Information)\n",
      "    - [Saving the Data to CSV](#Saving-the-Data-to-CSV)\n",
      "- [espnfc.com](#espnfc.com)\n",
      "    - [Getting Team Ranks and Stats](#Getting-Team-Ranks-and-Stats)\n",
      "    - [Saving ESPN Data to CSV](#Saving-ESPN-Data-to-CSV)\n",
      "- [365stats.com](#365stats.com)\n",
      "    - [Getting Injury Data](#Getting-Injury-Data)\n",
      "    - [Saving 365stats Data to CSV](#Saving-365stats-Data-to-CSV)\n",
      "- [Transfermarkt.com](#Transfermarkt.com)\n",
      "    - [Getting Home and Away Teams](#Getting-Home-and-Away-Teams)\n",
      "    - [Saving Home and Away Teams to CSV](#Saving-Home-and-Away-Teams-to-CSV)\n",
      "- [premierleague.com](#premierleague.com)\n",
      "- [telegraph.co.uk](#telegraph.co.uk)\n",
      "    - [Getting Current Week Points](#Getting-Current-Week-Points)\n",
      "    - [Getting 6-Week Points](#Getting-6---Week-Points)\n",
      "    - [Saving telegraph.co.uk to CSV](#Saving-telegraph.co.uk-to-CSV)\n",
      "- [m.premierleague.com](#m.premierleague.com)\n",
      "    - [Combined Form of Previous 6 Days](#Combined-Form-of-Previous-6-Days)\n",
      "    - [Saving m.premierleague.com to CSV](#Saving-m.premierleague.com-to-CSV)"
     ]
    },
    {
     "cell_type": "markdown",
     "metadata": {},
     "source": [
      "<br>\n",
      "<br>"
     ]
    },
    {
     "cell_type": "heading",
     "level": 1,
     "metadata": {},
     "source": [
      "dreamteamfc.com"
     ]
    },
    {
     "cell_type": "markdown",
     "metadata": {},
     "source": [
      "[[back to top](#Sections)]"
     ]
    },
    {
     "cell_type": "markdown",
     "metadata": {},
     "source": [
      "<br>\n",
      "<br>"
     ]
    },
    {
     "cell_type": "heading",
     "level": 2,
     "metadata": {},
     "source": [
      "Getting General Player Statistics"
     ]
    },
    {
     "cell_type": "markdown",
     "metadata": {},
     "source": [
      "[[back to top](#Sections)]"
     ]
    },
    {
     "cell_type": "code",
     "collapsed": false,
     "input": [
      "import pandas as pd\n",
      "from bs4 import BeautifulSoup\n",
      "import bs4\n",
      "import requests"
     ],
     "language": "python",
     "metadata": {},
     "outputs": [],
     "prompt_number": 2
    },
    {
     "cell_type": "code",
     "collapsed": false,
     "input": [
      "# Downloading and parsing the data into a Python dict\n",
      "\n",
      "player_dict = {}\n",
      "\n",
      "url = 'https://www.dreamteamfc.com/statistics/players/ALL/'\n",
      "r  = requests.get(url)\n",
      "soup = BeautifulSoup(r.text, 'html5lib') \n",
      "# Note: html5lib deals better with broken html than lxml\n",
      "\n",
      "name_list = []\n",
      "\n",
      "for td in soup.findAll(\"td\", { \"class\" : \"tabName\" }):\n",
      "    name = td.text.split('Statistics')[-1].strip()\n",
      "    if name:\n",
      "        name_list.append(name)\n",
      "        res = [i.text for i in td.next_siblings if isinstance(i, bs4.element.Tag)]\n",
      "        position, team, vfm, value, points = res\n",
      "        value = value.strip('m')\n",
      "        player_dict[name] = [name, position, team, vfm, value, points]\n",
      "        \n",
      "print('Found: %s' % len(name_list))\n",
      "print(name_list[-1])"
     ],
     "language": "python",
     "metadata": {},
     "outputs": [
      {
       "output_type": "stream",
       "stream": "stdout",
       "text": [
        "Found: 401\n",
        "O'Brien, Joey\n"
       ]
      }
     ],
     "prompt_number": 3
    },
    {
     "cell_type": "code",
     "collapsed": false,
     "input": [
      "# Reading the data into a pandas DataFrame\n",
      "\n",
      "df = pd.DataFrame.from_dict(player_dict, orient='index')\n",
      "df.columns = ['name', 'position', 'team', 'vfm', 'value', 'pts']\n",
      "df[['vfm','value']] = df[['vfm','value']].astype(float)\n",
      "df[['pts']] = df[['pts']].astype(int)\n",
      "df.tail()"
     ],
     "language": "python",
     "metadata": {},
     "outputs": [
      {
       "html": [
        "<div style=\"max-height:1000px;max-width:1500px;overflow:auto;\">\n",
        "<table border=\"1\" class=\"dataframe\">\n",
        "  <thead>\n",
        "    <tr style=\"text-align: right;\">\n",
        "      <th></th>\n",
        "      <th>name</th>\n",
        "      <th>position</th>\n",
        "      <th>team</th>\n",
        "      <th>vfm</th>\n",
        "      <th>value</th>\n",
        "      <th>pts</th>\n",
        "    </tr>\n",
        "  </thead>\n",
        "  <tbody>\n",
        "    <tr>\n",
        "      <th>Sigurdsson, Gylfi</th>\n",
        "      <td> Sigurdsson, Gylfi</td>\n",
        "      <td> MID</td>\n",
        "      <td> SWA</td>\n",
        "      <td> 28.67</td>\n",
        "      <td> 3.0</td>\n",
        "      <td> 86</td>\n",
        "    </tr>\n",
        "    <tr>\n",
        "      <th>van Ginkel, Marco</th>\n",
        "      <td> van Ginkel, Marco</td>\n",
        "      <td> MID</td>\n",
        "      <td> CHE</td>\n",
        "      <td>  0.00</td>\n",
        "      <td> 2.0</td>\n",
        "      <td>  0</td>\n",
        "    </tr>\n",
        "    <tr>\n",
        "      <th>Chamakh, Marouane</th>\n",
        "      <td> Chamakh, Marouane</td>\n",
        "      <td> STR</td>\n",
        "      <td> CRY</td>\n",
        "      <td>  2.67</td>\n",
        "      <td> 1.5</td>\n",
        "      <td>  4</td>\n",
        "    </tr>\n",
        "    <tr>\n",
        "      <th>Ince, Tom</th>\n",
        "      <td>         Ince, Tom</td>\n",
        "      <td> MID</td>\n",
        "      <td> HUL</td>\n",
        "      <td>  6.50</td>\n",
        "      <td> 2.0</td>\n",
        "      <td> 13</td>\n",
        "    </tr>\n",
        "    <tr>\n",
        "      <th>Ireland, Stephen</th>\n",
        "      <td>  Ireland, Stephen</td>\n",
        "      <td> MID</td>\n",
        "      <td> STO</td>\n",
        "      <td>  4.00</td>\n",
        "      <td> 1.0</td>\n",
        "      <td>  4</td>\n",
        "    </tr>\n",
        "  </tbody>\n",
        "</table>\n",
        "</div>"
       ],
       "metadata": {},
       "output_type": "pyout",
       "prompt_number": 4,
       "text": [
        "                                name position team    vfm  value  pts\n",
        "Sigurdsson, Gylfi  Sigurdsson, Gylfi      MID  SWA  28.67    3.0   86\n",
        "van Ginkel, Marco  van Ginkel, Marco      MID  CHE   0.00    2.0    0\n",
        "Chamakh, Marouane  Chamakh, Marouane      STR  CRY   2.67    1.5    4\n",
        "Ince, Tom                  Ince, Tom      MID  HUL   6.50    2.0   13\n",
        "Ireland, Stephen    Ireland, Stephen      MID  STO   4.00    1.0    4"
       ]
      }
     ],
     "prompt_number": 4
    },
    {
     "cell_type": "code",
     "collapsed": false,
     "input": [
      "df.describe()"
     ],
     "language": "python",
     "metadata": {},
     "outputs": [
      {
       "html": [
        "<div style=\"max-height:1000px;max-width:1500px;overflow:auto;\">\n",
        "<table border=\"1\" class=\"dataframe\">\n",
        "  <thead>\n",
        "    <tr style=\"text-align: right;\">\n",
        "      <th></th>\n",
        "      <th>vfm</th>\n",
        "      <th>value</th>\n",
        "      <th>pts</th>\n",
        "    </tr>\n",
        "  </thead>\n",
        "  <tbody>\n",
        "    <tr>\n",
        "      <th>count</th>\n",
        "      <td> 401.000000</td>\n",
        "      <td> 401.000000</td>\n",
        "      <td> 401.000000</td>\n",
        "    </tr>\n",
        "    <tr>\n",
        "      <th>mean</th>\n",
        "      <td>  11.185661</td>\n",
        "      <td>   2.770574</td>\n",
        "      <td>  29.581047</td>\n",
        "    </tr>\n",
        "    <tr>\n",
        "      <th>std</th>\n",
        "      <td>  10.259686</td>\n",
        "      <td>   1.416327</td>\n",
        "      <td>  27.582405</td>\n",
        "    </tr>\n",
        "    <tr>\n",
        "      <th>min</th>\n",
        "      <td> -13.000000</td>\n",
        "      <td>   1.000000</td>\n",
        "      <td> -13.000000</td>\n",
        "    </tr>\n",
        "    <tr>\n",
        "      <th>25%</th>\n",
        "      <td>   3.600000</td>\n",
        "      <td>   1.500000</td>\n",
        "      <td>   9.000000</td>\n",
        "    </tr>\n",
        "    <tr>\n",
        "      <th>50%</th>\n",
        "      <td>   9.330000</td>\n",
        "      <td>   2.500000</td>\n",
        "      <td>  24.000000</td>\n",
        "    </tr>\n",
        "    <tr>\n",
        "      <th>75%</th>\n",
        "      <td>  15.850000</td>\n",
        "      <td>   3.500000</td>\n",
        "      <td>  43.000000</td>\n",
        "    </tr>\n",
        "    <tr>\n",
        "      <th>max</th>\n",
        "      <td>  93.330000</td>\n",
        "      <td>   7.500000</td>\n",
        "      <td> 167.000000</td>\n",
        "    </tr>\n",
        "  </tbody>\n",
        "</table>\n",
        "</div>"
       ],
       "metadata": {},
       "output_type": "pyout",
       "prompt_number": 5,
       "text": [
        "              vfm       value         pts\n",
        "count  401.000000  401.000000  401.000000\n",
        "mean    11.185661    2.770574   29.581047\n",
        "std     10.259686    1.416327   27.582405\n",
        "min    -13.000000    1.000000  -13.000000\n",
        "25%      3.600000    1.500000    9.000000\n",
        "50%      9.330000    2.500000   24.000000\n",
        "75%     15.850000    3.500000   43.000000\n",
        "max     93.330000    7.500000  167.000000"
       ]
      }
     ],
     "prompt_number": 5
    },
    {
     "cell_type": "markdown",
     "metadata": {},
     "source": [
      "<br>\n",
      "<br>"
     ]
    },
    {
     "cell_type": "heading",
     "level": 2,
     "metadata": {},
     "source": [
      "Getting Injuries and Cards Information"
     ]
    },
    {
     "cell_type": "markdown",
     "metadata": {},
     "source": [
      "[[back to top](#Sections)]"
     ]
    },
    {
     "cell_type": "code",
     "collapsed": false,
     "input": [
      "df['status'] = pd.Series('', index=df.index)\n",
      "df['description'] = pd.Series('', index=df.index)\n",
      "df['returns'] = pd.Series('', index=df.index)"
     ],
     "language": "python",
     "metadata": {},
     "outputs": [],
     "prompt_number": 6
    },
    {
     "cell_type": "code",
     "collapsed": false,
     "input": [
      "url = 'https://www.dreamteamfc.com/statistics/injuries-and-cards/ALL/'\n",
      "r  = requests.get(url)\n",
      "soup = BeautifulSoup(r.text, 'html5lib')\n",
      "\n",
      "name_list = []\n",
      "\n",
      "for td in soup.findAll(\"td\", { \"class\" : \"tabName2\" }):\n",
      "    name = td.text.split('stats')[-1].strip()\n",
      "    if name:\n",
      "        name_list.append(name)\n",
      "        res = [i.text for i in td.next_siblings if isinstance(i, bs4.element.Tag)]\n",
      "        position, team, status, description, returns = res\n",
      "        df.loc[df.index==name,['status', 'description', 'returns']] = status, description, returns\n",
      "        \n",
      "print('Found: %s' % len(name_list))\n",
      "print(name_list[-1])"
     ],
     "language": "python",
     "metadata": {},
     "outputs": [
      {
       "output_type": "stream",
       "stream": "stdout",
       "text": [
        "Found: 81\n",
        "Fernando\n"
       ]
      }
     ],
     "prompt_number": 7
    },
    {
     "cell_type": "code",
     "collapsed": false,
     "input": [
      "df.tail()"
     ],
     "language": "python",
     "metadata": {},
     "outputs": [
      {
       "html": [
        "<div style=\"max-height:1000px;max-width:1500px;overflow:auto;\">\n",
        "<table border=\"1\" class=\"dataframe\">\n",
        "  <thead>\n",
        "    <tr style=\"text-align: right;\">\n",
        "      <th></th>\n",
        "      <th>name</th>\n",
        "      <th>position</th>\n",
        "      <th>team</th>\n",
        "      <th>vfm</th>\n",
        "      <th>value</th>\n",
        "      <th>pts</th>\n",
        "      <th>status</th>\n",
        "      <th>description</th>\n",
        "      <th>returns</th>\n",
        "    </tr>\n",
        "  </thead>\n",
        "  <tbody>\n",
        "    <tr>\n",
        "      <th>Sigurdsson, Gylfi</th>\n",
        "      <td> Sigurdsson, Gylfi</td>\n",
        "      <td> MID</td>\n",
        "      <td> SWA</td>\n",
        "      <td> 28.67</td>\n",
        "      <td> 3.0</td>\n",
        "      <td> 86</td>\n",
        "      <td>            </td>\n",
        "      <td>                                                  </td>\n",
        "      <td>           </td>\n",
        "    </tr>\n",
        "    <tr>\n",
        "      <th>van Ginkel, Marco</th>\n",
        "      <td> van Ginkel, Marco</td>\n",
        "      <td> MID</td>\n",
        "      <td> CHE</td>\n",
        "      <td>  0.00</td>\n",
        "      <td> 2.0</td>\n",
        "      <td>  0</td>\n",
        "      <td> Unavailable</td>\n",
        "      <td>               Joined AC Milan on season-long loan</td>\n",
        "      <td> 25/05/2015</td>\n",
        "    </tr>\n",
        "    <tr>\n",
        "      <th>Chamakh, Marouane</th>\n",
        "      <td> Chamakh, Marouane</td>\n",
        "      <td> STR</td>\n",
        "      <td> CRY</td>\n",
        "      <td>  2.67</td>\n",
        "      <td> 1.5</td>\n",
        "      <td>  4</td>\n",
        "      <td>     Injured</td>\n",
        "      <td> Sustained in the encounter with Stoke on 13/12...</td>\n",
        "      <td> 26/12/2014</td>\n",
        "    </tr>\n",
        "    <tr>\n",
        "      <th>Ince, Tom</th>\n",
        "      <td>         Ince, Tom</td>\n",
        "      <td> MID</td>\n",
        "      <td> HUL</td>\n",
        "      <td>  6.50</td>\n",
        "      <td> 2.0</td>\n",
        "      <td> 13</td>\n",
        "      <td>            </td>\n",
        "      <td>                                                  </td>\n",
        "      <td>           </td>\n",
        "    </tr>\n",
        "    <tr>\n",
        "      <th>Ireland, Stephen</th>\n",
        "      <td>  Ireland, Stephen</td>\n",
        "      <td> MID</td>\n",
        "      <td> STO</td>\n",
        "      <td>  4.00</td>\n",
        "      <td> 1.0</td>\n",
        "      <td>  4</td>\n",
        "      <td>    Doubtful</td>\n",
        "      <td>         Rated a doubt for 22/12 visit of Chelsea.</td>\n",
        "      <td> 01/01/2015</td>\n",
        "    </tr>\n",
        "  </tbody>\n",
        "</table>\n",
        "</div>"
       ],
       "metadata": {},
       "output_type": "pyout",
       "prompt_number": 8,
       "text": [
        "                                name position team    vfm  value  pts  \\\n",
        "Sigurdsson, Gylfi  Sigurdsson, Gylfi      MID  SWA  28.67    3.0   86   \n",
        "van Ginkel, Marco  van Ginkel, Marco      MID  CHE   0.00    2.0    0   \n",
        "Chamakh, Marouane  Chamakh, Marouane      STR  CRY   2.67    1.5    4   \n",
        "Ince, Tom                  Ince, Tom      MID  HUL   6.50    2.0   13   \n",
        "Ireland, Stephen    Ireland, Stephen      MID  STO   4.00    1.0    4   \n",
        "\n",
        "                        status  \\\n",
        "Sigurdsson, Gylfi                \n",
        "van Ginkel, Marco  Unavailable   \n",
        "Chamakh, Marouane      Injured   \n",
        "Ince, Tom                        \n",
        "Ireland, Stephen      Doubtful   \n",
        "\n",
        "                                                         description  \\\n",
        "Sigurdsson, Gylfi                                                      \n",
        "van Ginkel, Marco                Joined AC Milan on season-long loan   \n",
        "Chamakh, Marouane  Sustained in the encounter with Stoke on 13/12...   \n",
        "Ince, Tom                                                              \n",
        "Ireland, Stephen           Rated a doubt for 22/12 visit of Chelsea.   \n",
        "\n",
        "                      returns  \n",
        "Sigurdsson, Gylfi              \n",
        "van Ginkel, Marco  25/05/2015  \n",
        "Chamakh, Marouane  26/12/2014  \n",
        "Ince, Tom                      \n",
        "Ireland, Stephen   01/01/2015  "
       ]
      }
     ],
     "prompt_number": 8
    },
    {
     "cell_type": "markdown",
     "metadata": {},
     "source": [
      "<br>\n",
      "<br>"
     ]
    },
    {
     "cell_type": "heading",
     "level": 2,
     "metadata": {},
     "source": [
      "Getting Player Form Information"
     ]
    },
    {
     "cell_type": "markdown",
     "metadata": {},
     "source": [
      "[[back to top](#Sections)]"
     ]
    },
    {
     "cell_type": "code",
     "collapsed": false,
     "input": [
      "df['month_pts'] = pd.Series(0, index=df.index)\n",
      "df['week_pts'] = pd.Series(0, index=df.index)"
     ],
     "language": "python",
     "metadata": {},
     "outputs": [],
     "prompt_number": 9
    },
    {
     "cell_type": "code",
     "collapsed": false,
     "input": [
      "url = 'https://www.dreamteamfc.com/statistics/form-guide/all'\n",
      "r  = requests.get(url)\n",
      "soup = BeautifulSoup(r.text, 'html5lib')\n",
      "\n",
      "name_list = []\n",
      "\n",
      "for td in soup.findAll(\"td\", { \"class\" : \"tabName\" }):\n",
      "    name = td.text.strip()\n",
      "    if name:\n",
      "        name_list.append(name)\n",
      "        \n",
      "        res = [i.text for i in td.next_siblings if isinstance(i, bs4.element.Tag)]\n",
      "        try:\n",
      "            month_pts, week_pts = float(res[-2]), float(res[-1])\n",
      "            df.loc[df.index==name, ['month_pts', 'week_pts']] = month_pts, week_pts\n",
      "        except ValueError:\n",
      "            pass\n",
      "        \n",
      "print('Found: %s' % len(name_list))\n",
      "print(name_list[-1])"
     ],
     "language": "python",
     "metadata": {},
     "outputs": [
      {
       "output_type": "stream",
       "stream": "stdout",
       "text": [
        "Found: 401\n",
        "O'Brien, Joey\n"
       ]
      }
     ],
     "prompt_number": 11
    },
    {
     "cell_type": "code",
     "collapsed": false,
     "input": [
      "# Reordering the columns\n",
      "\n",
      "df = df[['name', 'position', 'team', 'vfm', 'value', 'pts', 'month_pts', \n",
      "         'week_pts', 'status', 'description', 'returns']]\n",
      "\n",
      "df.tail()"
     ],
     "language": "python",
     "metadata": {},
     "outputs": [
      {
       "html": [
        "<div style=\"max-height:1000px;max-width:1500px;overflow:auto;\">\n",
        "<table border=\"1\" class=\"dataframe\">\n",
        "  <thead>\n",
        "    <tr style=\"text-align: right;\">\n",
        "      <th></th>\n",
        "      <th>name</th>\n",
        "      <th>position</th>\n",
        "      <th>team</th>\n",
        "      <th>vfm</th>\n",
        "      <th>value</th>\n",
        "      <th>pts</th>\n",
        "      <th>month_pts</th>\n",
        "      <th>week_pts</th>\n",
        "      <th>status</th>\n",
        "      <th>description</th>\n",
        "      <th>returns</th>\n",
        "    </tr>\n",
        "  </thead>\n",
        "  <tbody>\n",
        "    <tr>\n",
        "      <th>Sigurdsson, Gylfi</th>\n",
        "      <td> Sigurdsson, Gylfi</td>\n",
        "      <td> MID</td>\n",
        "      <td> SWA</td>\n",
        "      <td> 28.67</td>\n",
        "      <td> 3.0</td>\n",
        "      <td> 86</td>\n",
        "      <td> 28</td>\n",
        "      <td> 5</td>\n",
        "      <td>            </td>\n",
        "      <td>                                                  </td>\n",
        "      <td>           </td>\n",
        "    </tr>\n",
        "    <tr>\n",
        "      <th>van Ginkel, Marco</th>\n",
        "      <td> van Ginkel, Marco</td>\n",
        "      <td> MID</td>\n",
        "      <td> CHE</td>\n",
        "      <td>  0.00</td>\n",
        "      <td> 2.0</td>\n",
        "      <td>  0</td>\n",
        "      <td>  0</td>\n",
        "      <td> 0</td>\n",
        "      <td> Unavailable</td>\n",
        "      <td>               Joined AC Milan on season-long loan</td>\n",
        "      <td> 25/05/2015</td>\n",
        "    </tr>\n",
        "    <tr>\n",
        "      <th>Chamakh, Marouane</th>\n",
        "      <td> Chamakh, Marouane</td>\n",
        "      <td> STR</td>\n",
        "      <td> CRY</td>\n",
        "      <td>  2.67</td>\n",
        "      <td> 1.5</td>\n",
        "      <td>  4</td>\n",
        "      <td> -1</td>\n",
        "      <td> 0</td>\n",
        "      <td>     Injured</td>\n",
        "      <td> Sustained in the encounter with Stoke on 13/12...</td>\n",
        "      <td> 26/12/2014</td>\n",
        "    </tr>\n",
        "    <tr>\n",
        "      <th>Ince, Tom</th>\n",
        "      <td>         Ince, Tom</td>\n",
        "      <td> MID</td>\n",
        "      <td> HUL</td>\n",
        "      <td>  6.50</td>\n",
        "      <td> 2.0</td>\n",
        "      <td> 13</td>\n",
        "      <td>  0</td>\n",
        "      <td> 0</td>\n",
        "      <td>            </td>\n",
        "      <td>                                                  </td>\n",
        "      <td>           </td>\n",
        "    </tr>\n",
        "    <tr>\n",
        "      <th>Ireland, Stephen</th>\n",
        "      <td>  Ireland, Stephen</td>\n",
        "      <td> MID</td>\n",
        "      <td> STO</td>\n",
        "      <td>  4.00</td>\n",
        "      <td> 1.0</td>\n",
        "      <td>  4</td>\n",
        "      <td> -1</td>\n",
        "      <td> 0</td>\n",
        "      <td>    Doubtful</td>\n",
        "      <td>         Rated a doubt for 22/12 visit of Chelsea.</td>\n",
        "      <td> 01/01/2015</td>\n",
        "    </tr>\n",
        "  </tbody>\n",
        "</table>\n",
        "</div>"
       ],
       "metadata": {},
       "output_type": "pyout",
       "prompt_number": 13,
       "text": [
        "                                name position team    vfm  value  pts  \\\n",
        "Sigurdsson, Gylfi  Sigurdsson, Gylfi      MID  SWA  28.67    3.0   86   \n",
        "van Ginkel, Marco  van Ginkel, Marco      MID  CHE   0.00    2.0    0   \n",
        "Chamakh, Marouane  Chamakh, Marouane      STR  CRY   2.67    1.5    4   \n",
        "Ince, Tom                  Ince, Tom      MID  HUL   6.50    2.0   13   \n",
        "Ireland, Stephen    Ireland, Stephen      MID  STO   4.00    1.0    4   \n",
        "\n",
        "                   month_pts  week_pts       status  \\\n",
        "Sigurdsson, Gylfi         28         5                \n",
        "van Ginkel, Marco          0         0  Unavailable   \n",
        "Chamakh, Marouane         -1         0      Injured   \n",
        "Ince, Tom                  0         0                \n",
        "Ireland, Stephen          -1         0     Doubtful   \n",
        "\n",
        "                                                         description  \\\n",
        "Sigurdsson, Gylfi                                                      \n",
        "van Ginkel, Marco                Joined AC Milan on season-long loan   \n",
        "Chamakh, Marouane  Sustained in the encounter with Stoke on 13/12...   \n",
        "Ince, Tom                                                              \n",
        "Ireland, Stephen           Rated a doubt for 22/12 visit of Chelsea.   \n",
        "\n",
        "                      returns  \n",
        "Sigurdsson, Gylfi              \n",
        "van Ginkel, Marco  25/05/2015  \n",
        "Chamakh, Marouane  26/12/2014  \n",
        "Ince, Tom                      \n",
        "Ireland, Stephen   01/01/2015  "
       ]
      }
     ],
     "prompt_number": 13
    },
    {
     "cell_type": "markdown",
     "metadata": {},
     "source": [
      "<br>\n",
      "<br>"
     ]
    },
    {
     "cell_type": "heading",
     "level": 2,
     "metadata": {},
     "source": [
      "Saving the Data to CSV"
     ]
    },
    {
     "cell_type": "markdown",
     "metadata": {},
     "source": [
      "[[back to top](#Sections)]"
     ]
    },
    {
     "cell_type": "code",
     "collapsed": false,
     "input": [
      "# Getting the current time stamp for the data\n",
      "\n",
      "from datetime import datetime\n",
      "\n",
      "url = 'https://www.dreamteamfc.com/statistics/players/ALL/'\n",
      "r  = requests.get(url)\n",
      "data = r.text\n",
      "soup = BeautifulSoup(data)\n",
      "\n",
      "raw_date = soup.find('li', {'class' : 'pointsupdateinfo' }).text\n",
      "raw_date = raw_date.split()[-1].replace('/', '').strip()\n",
      "d = datetime.strptime(raw_date, '%d%m%Y').date()\n",
      "date = d.strftime('%Y%m%d')\n",
      "print(date)"
     ],
     "language": "python",
     "metadata": {},
     "outputs": [
      {
       "output_type": "stream",
       "stream": "stdout",
       "text": [
        "20141220\n"
       ]
      }
     ],
     "prompt_number": 13
    },
    {
     "cell_type": "code",
     "collapsed": false,
     "input": [
      "df.to_csv('../data/dreamteamfc_%s.csv' % date, index=False)"
     ],
     "language": "python",
     "metadata": {},
     "outputs": [],
     "prompt_number": 14
    },
    {
     "cell_type": "markdown",
     "metadata": {},
     "source": [
      "<br>\n",
      "<br>"
     ]
    },
    {
     "cell_type": "heading",
     "level": 1,
     "metadata": {},
     "source": [
      "espnfc.com"
     ]
    },
    {
     "cell_type": "markdown",
     "metadata": {},
     "source": [
      "[[back to top](#Sections)]"
     ]
    },
    {
     "cell_type": "markdown",
     "metadata": {},
     "source": [
      "<br>\n",
      "<br>"
     ]
    },
    {
     "cell_type": "heading",
     "level": 2,
     "metadata": {},
     "source": [
      "Getting Team Ranks and Stats"
     ]
    },
    {
     "cell_type": "markdown",
     "metadata": {},
     "source": [
      "[[back to top](#Sections)]"
     ]
    },
    {
     "cell_type": "code",
     "collapsed": false,
     "input": [
      "import pandas as pd\n",
      "from bs4 import BeautifulSoup\n",
      "import bs4\n",
      "import requests"
     ],
     "language": "python",
     "metadata": {},
     "outputs": [],
     "prompt_number": 5
    },
    {
     "cell_type": "code",
     "collapsed": false,
     "input": [
      "# Downloading and parsing the data into a Python dict\n",
      "\n",
      "team_dict = {}\n",
      "\n",
      "url = 'http://www.espnfc.com/barclays-premier-league/23/table'\n",
      "r  = requests.get(url)\n",
      "soup = BeautifulSoup(r.text, 'html5lib') \n",
      "# Note: html5lib deals better with broken html than lxml\n",
      "\n",
      "for td in soup.findAll('td', { 'class' : 'pos' }):\n",
      "    rank = int(td.text)\n",
      "    res = [i.text for i in td.next_siblings if isinstance(i, bs4.element.Tag) and i.text!='\\xa0']\n",
      "    team_name = res[0].strip()\n",
      "    values = [int(i) for i in res[1:]]\n",
      "    team_dict[team_name] = [rank] + values"
     ],
     "language": "python",
     "metadata": {},
     "outputs": [],
     "prompt_number": 6
    },
    {
     "cell_type": "markdown",
     "metadata": {},
     "source": [
      "Column legend:\n",
      "\n",
      "- Pos: POSITION\n",
      "- P: GAMES PLAYED \n",
      "- W: WINS \n",
      "- D: DRAWS \n",
      "- L: LOSSES \n",
      "- F: GOALS FOR \n",
      "- A: GOALS AGAINST \n",
      "- GD: GOAL DIFFERENCE \n",
      "- PTS: POINTS\n",
      "\n",
      "suffixes:\n",
      "- _ov: OVERALL\n",
      "- _hm: HOME GAMES\n",
      "- _aw: AWAY GAMES"
     ]
    },
    {
     "cell_type": "code",
     "collapsed": false,
     "input": [
      "df = pd.DataFrame.from_dict(team_dict, orient='index')\n",
      "cols = ['Pos','P_ov','W_ov','D_ov','L_ov','F_ov','A_ov',\n",
      "            'W_hm','D_hm','L_hm','F_hm','A_hm', 'W_aw',\n",
      "            'D_aw','L_aw','F_aw','A_aw','GD','PTS']\n",
      "df.columns = cols\n",
      "df = df.sort('Pos')\n",
      "df['team'] = df.index\n",
      "df = df[['team']+cols]\n",
      "df"
     ],
     "language": "python",
     "metadata": {},
     "outputs": [
      {
       "html": [
        "<div style=\"max-height:1000px;max-width:1500px;overflow:auto;\">\n",
        "<table border=\"1\" class=\"dataframe\">\n",
        "  <thead>\n",
        "    <tr style=\"text-align: right;\">\n",
        "      <th></th>\n",
        "      <th>team</th>\n",
        "      <th>Pos</th>\n",
        "      <th>P_ov</th>\n",
        "      <th>W_ov</th>\n",
        "      <th>D_ov</th>\n",
        "      <th>L_ov</th>\n",
        "      <th>F_ov</th>\n",
        "      <th>A_ov</th>\n",
        "      <th>W_hm</th>\n",
        "      <th>D_hm</th>\n",
        "      <th>L_hm</th>\n",
        "      <th>F_hm</th>\n",
        "      <th>A_hm</th>\n",
        "      <th>W_aw</th>\n",
        "      <th>D_aw</th>\n",
        "      <th>L_aw</th>\n",
        "      <th>F_aw</th>\n",
        "      <th>A_aw</th>\n",
        "      <th>GD</th>\n",
        "      <th>PTS</th>\n",
        "    </tr>\n",
        "  </thead>\n",
        "  <tbody>\n",
        "    <tr>\n",
        "      <th>Chelsea</th>\n",
        "      <td>              Chelsea</td>\n",
        "      <td>  1</td>\n",
        "      <td> 18</td>\n",
        "      <td> 14</td>\n",
        "      <td>  3</td>\n",
        "      <td>  1</td>\n",
        "      <td> 40</td>\n",
        "      <td> 13</td>\n",
        "      <td> 9</td>\n",
        "      <td> 0</td>\n",
        "      <td> 0</td>\n",
        "      <td> 22</td>\n",
        "      <td>  3</td>\n",
        "      <td> 5</td>\n",
        "      <td> 3</td>\n",
        "      <td> 1</td>\n",
        "      <td> 18</td>\n",
        "      <td> 10</td>\n",
        "      <td> 27</td>\n",
        "      <td> 45</td>\n",
        "    </tr>\n",
        "    <tr>\n",
        "      <th>Manchester City</th>\n",
        "      <td>      Manchester City</td>\n",
        "      <td>  2</td>\n",
        "      <td> 18</td>\n",
        "      <td> 13</td>\n",
        "      <td>  3</td>\n",
        "      <td>  2</td>\n",
        "      <td> 39</td>\n",
        "      <td> 15</td>\n",
        "      <td> 6</td>\n",
        "      <td> 1</td>\n",
        "      <td> 1</td>\n",
        "      <td> 15</td>\n",
        "      <td>  5</td>\n",
        "      <td> 7</td>\n",
        "      <td> 2</td>\n",
        "      <td> 1</td>\n",
        "      <td> 24</td>\n",
        "      <td> 10</td>\n",
        "      <td> 24</td>\n",
        "      <td> 42</td>\n",
        "    </tr>\n",
        "    <tr>\n",
        "      <th>Manchester United</th>\n",
        "      <td>    Manchester United</td>\n",
        "      <td>  3</td>\n",
        "      <td> 18</td>\n",
        "      <td> 10</td>\n",
        "      <td>  5</td>\n",
        "      <td>  3</td>\n",
        "      <td> 33</td>\n",
        "      <td> 19</td>\n",
        "      <td> 8</td>\n",
        "      <td> 1</td>\n",
        "      <td> 1</td>\n",
        "      <td> 22</td>\n",
        "      <td>  7</td>\n",
        "      <td> 2</td>\n",
        "      <td> 4</td>\n",
        "      <td> 2</td>\n",
        "      <td> 11</td>\n",
        "      <td> 12</td>\n",
        "      <td> 14</td>\n",
        "      <td> 35</td>\n",
        "    </tr>\n",
        "    <tr>\n",
        "      <th>Southampton</th>\n",
        "      <td>          Southampton</td>\n",
        "      <td>  4</td>\n",
        "      <td> 18</td>\n",
        "      <td> 10</td>\n",
        "      <td>  2</td>\n",
        "      <td>  6</td>\n",
        "      <td> 31</td>\n",
        "      <td> 14</td>\n",
        "      <td> 6</td>\n",
        "      <td> 1</td>\n",
        "      <td> 2</td>\n",
        "      <td> 21</td>\n",
        "      <td>  6</td>\n",
        "      <td> 4</td>\n",
        "      <td> 1</td>\n",
        "      <td> 4</td>\n",
        "      <td> 10</td>\n",
        "      <td>  8</td>\n",
        "      <td> 17</td>\n",
        "      <td> 32</td>\n",
        "    </tr>\n",
        "    <tr>\n",
        "      <th>West Ham United</th>\n",
        "      <td>      West Ham United</td>\n",
        "      <td>  5</td>\n",
        "      <td> 18</td>\n",
        "      <td>  9</td>\n",
        "      <td>  4</td>\n",
        "      <td>  5</td>\n",
        "      <td> 29</td>\n",
        "      <td> 21</td>\n",
        "      <td> 6</td>\n",
        "      <td> 1</td>\n",
        "      <td> 2</td>\n",
        "      <td> 14</td>\n",
        "      <td>  7</td>\n",
        "      <td> 3</td>\n",
        "      <td> 3</td>\n",
        "      <td> 3</td>\n",
        "      <td> 15</td>\n",
        "      <td> 14</td>\n",
        "      <td>  8</td>\n",
        "      <td> 31</td>\n",
        "    </tr>\n",
        "    <tr>\n",
        "      <th>Arsenal</th>\n",
        "      <td>              Arsenal</td>\n",
        "      <td>  6</td>\n",
        "      <td> 18</td>\n",
        "      <td>  8</td>\n",
        "      <td>  6</td>\n",
        "      <td>  4</td>\n",
        "      <td> 32</td>\n",
        "      <td> 22</td>\n",
        "      <td> 5</td>\n",
        "      <td> 3</td>\n",
        "      <td> 1</td>\n",
        "      <td> 18</td>\n",
        "      <td> 10</td>\n",
        "      <td> 3</td>\n",
        "      <td> 3</td>\n",
        "      <td> 3</td>\n",
        "      <td> 14</td>\n",
        "      <td> 12</td>\n",
        "      <td> 10</td>\n",
        "      <td> 30</td>\n",
        "    </tr>\n",
        "    <tr>\n",
        "      <th>Tottenham Hotspur</th>\n",
        "      <td>    Tottenham Hotspur</td>\n",
        "      <td>  7</td>\n",
        "      <td> 18</td>\n",
        "      <td>  9</td>\n",
        "      <td>  3</td>\n",
        "      <td>  6</td>\n",
        "      <td> 24</td>\n",
        "      <td> 24</td>\n",
        "      <td> 4</td>\n",
        "      <td> 1</td>\n",
        "      <td> 4</td>\n",
        "      <td> 11</td>\n",
        "      <td> 10</td>\n",
        "      <td> 5</td>\n",
        "      <td> 2</td>\n",
        "      <td> 2</td>\n",
        "      <td> 13</td>\n",
        "      <td> 14</td>\n",
        "      <td>  0</td>\n",
        "      <td> 30</td>\n",
        "    </tr>\n",
        "    <tr>\n",
        "      <th>Swansea City</th>\n",
        "      <td>         Swansea City</td>\n",
        "      <td>  8</td>\n",
        "      <td> 18</td>\n",
        "      <td>  8</td>\n",
        "      <td>  4</td>\n",
        "      <td>  6</td>\n",
        "      <td> 23</td>\n",
        "      <td> 19</td>\n",
        "      <td> 6</td>\n",
        "      <td> 2</td>\n",
        "      <td> 2</td>\n",
        "      <td> 15</td>\n",
        "      <td>  7</td>\n",
        "      <td> 2</td>\n",
        "      <td> 2</td>\n",
        "      <td> 4</td>\n",
        "      <td>  8</td>\n",
        "      <td> 12</td>\n",
        "      <td>  4</td>\n",
        "      <td> 28</td>\n",
        "    </tr>\n",
        "    <tr>\n",
        "      <th>Liverpool</th>\n",
        "      <td>            Liverpool</td>\n",
        "      <td>  9</td>\n",
        "      <td> 18</td>\n",
        "      <td>  7</td>\n",
        "      <td>  4</td>\n",
        "      <td>  7</td>\n",
        "      <td> 22</td>\n",
        "      <td> 24</td>\n",
        "      <td> 3</td>\n",
        "      <td> 4</td>\n",
        "      <td> 2</td>\n",
        "      <td>  9</td>\n",
        "      <td>  8</td>\n",
        "      <td> 4</td>\n",
        "      <td> 0</td>\n",
        "      <td> 5</td>\n",
        "      <td> 13</td>\n",
        "      <td> 16</td>\n",
        "      <td> -2</td>\n",
        "      <td> 25</td>\n",
        "    </tr>\n",
        "    <tr>\n",
        "      <th>Newcastle United</th>\n",
        "      <td>     Newcastle United</td>\n",
        "      <td> 10</td>\n",
        "      <td> 18</td>\n",
        "      <td>  6</td>\n",
        "      <td>  5</td>\n",
        "      <td>  7</td>\n",
        "      <td> 19</td>\n",
        "      <td> 26</td>\n",
        "      <td> 4</td>\n",
        "      <td> 2</td>\n",
        "      <td> 2</td>\n",
        "      <td> 10</td>\n",
        "      <td>  9</td>\n",
        "      <td> 2</td>\n",
        "      <td> 3</td>\n",
        "      <td> 5</td>\n",
        "      <td>  9</td>\n",
        "      <td> 17</td>\n",
        "      <td> -7</td>\n",
        "      <td> 23</td>\n",
        "    </tr>\n",
        "    <tr>\n",
        "      <th>Stoke City</th>\n",
        "      <td>           Stoke City</td>\n",
        "      <td> 11</td>\n",
        "      <td> 18</td>\n",
        "      <td>  6</td>\n",
        "      <td>  4</td>\n",
        "      <td>  8</td>\n",
        "      <td> 19</td>\n",
        "      <td> 23</td>\n",
        "      <td> 3</td>\n",
        "      <td> 1</td>\n",
        "      <td> 4</td>\n",
        "      <td>  9</td>\n",
        "      <td> 11</td>\n",
        "      <td> 3</td>\n",
        "      <td> 3</td>\n",
        "      <td> 4</td>\n",
        "      <td> 10</td>\n",
        "      <td> 12</td>\n",
        "      <td> -4</td>\n",
        "      <td> 22</td>\n",
        "    </tr>\n",
        "    <tr>\n",
        "      <th>Everton</th>\n",
        "      <td>              Everton</td>\n",
        "      <td> 12</td>\n",
        "      <td> 18</td>\n",
        "      <td>  5</td>\n",
        "      <td>  6</td>\n",
        "      <td>  7</td>\n",
        "      <td> 27</td>\n",
        "      <td> 28</td>\n",
        "      <td> 3</td>\n",
        "      <td> 3</td>\n",
        "      <td> 3</td>\n",
        "      <td> 16</td>\n",
        "      <td> 15</td>\n",
        "      <td> 2</td>\n",
        "      <td> 3</td>\n",
        "      <td> 4</td>\n",
        "      <td> 11</td>\n",
        "      <td> 13</td>\n",
        "      <td> -1</td>\n",
        "      <td> 21</td>\n",
        "    </tr>\n",
        "    <tr>\n",
        "      <th>Aston Villa</th>\n",
        "      <td>          Aston Villa</td>\n",
        "      <td> 13</td>\n",
        "      <td> 18</td>\n",
        "      <td>  5</td>\n",
        "      <td>  5</td>\n",
        "      <td>  8</td>\n",
        "      <td> 11</td>\n",
        "      <td> 22</td>\n",
        "      <td> 2</td>\n",
        "      <td> 3</td>\n",
        "      <td> 3</td>\n",
        "      <td>  7</td>\n",
        "      <td> 11</td>\n",
        "      <td> 3</td>\n",
        "      <td> 2</td>\n",
        "      <td> 5</td>\n",
        "      <td>  4</td>\n",
        "      <td> 11</td>\n",
        "      <td>-11</td>\n",
        "      <td> 20</td>\n",
        "    </tr>\n",
        "    <tr>\n",
        "      <th>Sunderland</th>\n",
        "      <td>           Sunderland</td>\n",
        "      <td> 14</td>\n",
        "      <td> 18</td>\n",
        "      <td>  3</td>\n",
        "      <td> 10</td>\n",
        "      <td>  5</td>\n",
        "      <td> 16</td>\n",
        "      <td> 27</td>\n",
        "      <td> 1</td>\n",
        "      <td> 6</td>\n",
        "      <td> 3</td>\n",
        "      <td> 10</td>\n",
        "      <td> 15</td>\n",
        "      <td> 2</td>\n",
        "      <td> 4</td>\n",
        "      <td> 2</td>\n",
        "      <td>  6</td>\n",
        "      <td> 12</td>\n",
        "      <td>-11</td>\n",
        "      <td> 19</td>\n",
        "    </tr>\n",
        "    <tr>\n",
        "      <th>West Bromwich Albion</th>\n",
        "      <td> West Bromwich Albion</td>\n",
        "      <td> 15</td>\n",
        "      <td> 18</td>\n",
        "      <td>  4</td>\n",
        "      <td>  5</td>\n",
        "      <td>  9</td>\n",
        "      <td> 18</td>\n",
        "      <td> 26</td>\n",
        "      <td> 2</td>\n",
        "      <td> 3</td>\n",
        "      <td> 5</td>\n",
        "      <td> 13</td>\n",
        "      <td> 16</td>\n",
        "      <td> 2</td>\n",
        "      <td> 2</td>\n",
        "      <td> 4</td>\n",
        "      <td>  5</td>\n",
        "      <td> 10</td>\n",
        "      <td> -8</td>\n",
        "      <td> 17</td>\n",
        "    </tr>\n",
        "    <tr>\n",
        "      <th>Queens Park Rangers</th>\n",
        "      <td>  Queens Park Rangers</td>\n",
        "      <td> 16</td>\n",
        "      <td> 18</td>\n",
        "      <td>  5</td>\n",
        "      <td>  2</td>\n",
        "      <td> 11</td>\n",
        "      <td> 21</td>\n",
        "      <td> 34</td>\n",
        "      <td> 5</td>\n",
        "      <td> 2</td>\n",
        "      <td> 2</td>\n",
        "      <td> 17</td>\n",
        "      <td> 12</td>\n",
        "      <td> 0</td>\n",
        "      <td> 0</td>\n",
        "      <td> 9</td>\n",
        "      <td>  4</td>\n",
        "      <td> 22</td>\n",
        "      <td>-13</td>\n",
        "      <td> 17</td>\n",
        "    </tr>\n",
        "    <tr>\n",
        "      <th>Hull City</th>\n",
        "      <td>            Hull City</td>\n",
        "      <td> 17</td>\n",
        "      <td> 18</td>\n",
        "      <td>  3</td>\n",
        "      <td>  7</td>\n",
        "      <td>  8</td>\n",
        "      <td> 18</td>\n",
        "      <td> 25</td>\n",
        "      <td> 1</td>\n",
        "      <td> 3</td>\n",
        "      <td> 4</td>\n",
        "      <td>  8</td>\n",
        "      <td> 11</td>\n",
        "      <td> 2</td>\n",
        "      <td> 4</td>\n",
        "      <td> 4</td>\n",
        "      <td> 10</td>\n",
        "      <td> 14</td>\n",
        "      <td> -7</td>\n",
        "      <td> 16</td>\n",
        "    </tr>\n",
        "    <tr>\n",
        "      <th>Crystal Palace</th>\n",
        "      <td>       Crystal Palace</td>\n",
        "      <td> 18</td>\n",
        "      <td> 18</td>\n",
        "      <td>  3</td>\n",
        "      <td>  6</td>\n",
        "      <td>  9</td>\n",
        "      <td> 20</td>\n",
        "      <td> 30</td>\n",
        "      <td> 2</td>\n",
        "      <td> 2</td>\n",
        "      <td> 5</td>\n",
        "      <td> 10</td>\n",
        "      <td> 14</td>\n",
        "      <td> 1</td>\n",
        "      <td> 4</td>\n",
        "      <td> 4</td>\n",
        "      <td> 10</td>\n",
        "      <td> 16</td>\n",
        "      <td>-10</td>\n",
        "      <td> 15</td>\n",
        "    </tr>\n",
        "    <tr>\n",
        "      <th>Burnley</th>\n",
        "      <td>              Burnley</td>\n",
        "      <td> 19</td>\n",
        "      <td> 18</td>\n",
        "      <td>  3</td>\n",
        "      <td>  6</td>\n",
        "      <td>  9</td>\n",
        "      <td> 12</td>\n",
        "      <td> 27</td>\n",
        "      <td> 2</td>\n",
        "      <td> 4</td>\n",
        "      <td> 4</td>\n",
        "      <td>  7</td>\n",
        "      <td> 12</td>\n",
        "      <td> 1</td>\n",
        "      <td> 2</td>\n",
        "      <td> 5</td>\n",
        "      <td>  5</td>\n",
        "      <td> 15</td>\n",
        "      <td>-15</td>\n",
        "      <td> 15</td>\n",
        "    </tr>\n",
        "    <tr>\n",
        "      <th>Leicester City</th>\n",
        "      <td>       Leicester City</td>\n",
        "      <td> 20</td>\n",
        "      <td> 18</td>\n",
        "      <td>  2</td>\n",
        "      <td>  4</td>\n",
        "      <td> 12</td>\n",
        "      <td> 16</td>\n",
        "      <td> 31</td>\n",
        "      <td> 1</td>\n",
        "      <td> 4</td>\n",
        "      <td> 4</td>\n",
        "      <td> 12</td>\n",
        "      <td> 15</td>\n",
        "      <td> 1</td>\n",
        "      <td> 0</td>\n",
        "      <td> 8</td>\n",
        "      <td>  4</td>\n",
        "      <td> 16</td>\n",
        "      <td>-15</td>\n",
        "      <td> 10</td>\n",
        "    </tr>\n",
        "  </tbody>\n",
        "</table>\n",
        "</div>"
       ],
       "metadata": {},
       "output_type": "pyout",
       "prompt_number": 10,
       "text": [
        "                                      team  Pos  P_ov  W_ov  D_ov  L_ov  F_ov  \\\n",
        "Chelsea                            Chelsea    1    18    14     3     1    40   \n",
        "Manchester City            Manchester City    2    18    13     3     2    39   \n",
        "Manchester United        Manchester United    3    18    10     5     3    33   \n",
        "Southampton                    Southampton    4    18    10     2     6    31   \n",
        "West Ham United            West Ham United    5    18     9     4     5    29   \n",
        "Arsenal                            Arsenal    6    18     8     6     4    32   \n",
        "Tottenham Hotspur        Tottenham Hotspur    7    18     9     3     6    24   \n",
        "Swansea City                  Swansea City    8    18     8     4     6    23   \n",
        "Liverpool                        Liverpool    9    18     7     4     7    22   \n",
        "Newcastle United          Newcastle United   10    18     6     5     7    19   \n",
        "Stoke City                      Stoke City   11    18     6     4     8    19   \n",
        "Everton                            Everton   12    18     5     6     7    27   \n",
        "Aston Villa                    Aston Villa   13    18     5     5     8    11   \n",
        "Sunderland                      Sunderland   14    18     3    10     5    16   \n",
        "West Bromwich Albion  West Bromwich Albion   15    18     4     5     9    18   \n",
        "Queens Park Rangers    Queens Park Rangers   16    18     5     2    11    21   \n",
        "Hull City                        Hull City   17    18     3     7     8    18   \n",
        "Crystal Palace              Crystal Palace   18    18     3     6     9    20   \n",
        "Burnley                            Burnley   19    18     3     6     9    12   \n",
        "Leicester City              Leicester City   20    18     2     4    12    16   \n",
        "\n",
        "                      A_ov  W_hm  D_hm  L_hm  F_hm  A_hm  W_aw  D_aw  L_aw  \\\n",
        "Chelsea                 13     9     0     0    22     3     5     3     1   \n",
        "Manchester City         15     6     1     1    15     5     7     2     1   \n",
        "Manchester United       19     8     1     1    22     7     2     4     2   \n",
        "Southampton             14     6     1     2    21     6     4     1     4   \n",
        "West Ham United         21     6     1     2    14     7     3     3     3   \n",
        "Arsenal                 22     5     3     1    18    10     3     3     3   \n",
        "Tottenham Hotspur       24     4     1     4    11    10     5     2     2   \n",
        "Swansea City            19     6     2     2    15     7     2     2     4   \n",
        "Liverpool               24     3     4     2     9     8     4     0     5   \n",
        "Newcastle United        26     4     2     2    10     9     2     3     5   \n",
        "Stoke City              23     3     1     4     9    11     3     3     4   \n",
        "Everton                 28     3     3     3    16    15     2     3     4   \n",
        "Aston Villa             22     2     3     3     7    11     3     2     5   \n",
        "Sunderland              27     1     6     3    10    15     2     4     2   \n",
        "West Bromwich Albion    26     2     3     5    13    16     2     2     4   \n",
        "Queens Park Rangers     34     5     2     2    17    12     0     0     9   \n",
        "Hull City               25     1     3     4     8    11     2     4     4   \n",
        "Crystal Palace          30     2     2     5    10    14     1     4     4   \n",
        "Burnley                 27     2     4     4     7    12     1     2     5   \n",
        "Leicester City          31     1     4     4    12    15     1     0     8   \n",
        "\n",
        "                      F_aw  A_aw  GD  PTS  \n",
        "Chelsea                 18    10  27   45  \n",
        "Manchester City         24    10  24   42  \n",
        "Manchester United       11    12  14   35  \n",
        "Southampton             10     8  17   32  \n",
        "West Ham United         15    14   8   31  \n",
        "Arsenal                 14    12  10   30  \n",
        "Tottenham Hotspur       13    14   0   30  \n",
        "Swansea City             8    12   4   28  \n",
        "Liverpool               13    16  -2   25  \n",
        "Newcastle United         9    17  -7   23  \n",
        "Stoke City              10    12  -4   22  \n",
        "Everton                 11    13  -1   21  \n",
        "Aston Villa              4    11 -11   20  \n",
        "Sunderland               6    12 -11   19  \n",
        "West Bromwich Albion     5    10  -8   17  \n",
        "Queens Park Rangers      4    22 -13   17  \n",
        "Hull City               10    14  -7   16  \n",
        "Crystal Palace          10    16 -10   15  \n",
        "Burnley                  5    15 -15   15  \n",
        "Leicester City           4    16 -15   10  "
       ]
      }
     ],
     "prompt_number": 10
    },
    {
     "cell_type": "markdown",
     "metadata": {},
     "source": [
      "<br>\n",
      "<br>"
     ]
    },
    {
     "cell_type": "heading",
     "level": 2,
     "metadata": {},
     "source": [
      "Saving ESPN Data to CSV"
     ]
    },
    {
     "cell_type": "markdown",
     "metadata": {},
     "source": [
      "[[back to top](#Sections)]"
     ]
    },
    {
     "cell_type": "code",
     "collapsed": false,
     "input": [
      "df.to_csv('../data/2014_epl_day_17/espn_20141222.csv', index=False)"
     ],
     "language": "python",
     "metadata": {},
     "outputs": [],
     "prompt_number": 12
    },
    {
     "cell_type": "markdown",
     "metadata": {},
     "source": [
      "<br>\n",
      "<br>"
     ]
    },
    {
     "cell_type": "heading",
     "level": 1,
     "metadata": {},
     "source": [
      "365stats.com"
     ]
    },
    {
     "cell_type": "markdown",
     "metadata": {},
     "source": [
      "[[back to top](#Sections)]"
     ]
    },
    {
     "cell_type": "markdown",
     "metadata": {},
     "source": [
      "<br>\n",
      "<br>"
     ]
    },
    {
     "cell_type": "heading",
     "level": 2,
     "metadata": {},
     "source": [
      "Getting Injury Data"
     ]
    },
    {
     "cell_type": "markdown",
     "metadata": {},
     "source": [
      "[[back to top](#Sections)]"
     ]
    },
    {
     "cell_type": "code",
     "collapsed": false,
     "input": [
      "import pandas as pd\n",
      "from bs4 import BeautifulSoup\n",
      "import bs4\n",
      "import requests"
     ],
     "language": "python",
     "metadata": {},
     "outputs": [],
     "prompt_number": 4
    },
    {
     "cell_type": "code",
     "collapsed": false,
     "input": [
      "# Downloading and parsing the data into a Python dict\n",
      "\n",
      "injury_dict = {}\n",
      "\n",
      "url = 'http://365stats.com/football/injuries'\n",
      "r  = requests.get(url)\n",
      "soup = BeautifulSoup(r.text, 'html5lib') \n",
      "# Note: html5lib deals better with broken html than lxml\n",
      "\n",
      "for td in soup.findAll('td', { 'nowrap' : 'nowrap' }):\n",
      "    name = td.text.split()\n",
      "    player_info = ['%s, %s' % (' '.join(name[1:]), name[0])]\n",
      "    for i in td.next_siblings:\n",
      "        if isinstance(i, bs4.Tag):\n",
      "            player_info.append(i.text)\n",
      "    injury_dict[player_info[0]] = player_info[1:3]"
     ],
     "language": "python",
     "metadata": {},
     "outputs": [],
     "prompt_number": 12
    },
    {
     "cell_type": "code",
     "collapsed": false,
     "input": [
      "df = pd.DataFrame.from_dict(injury_dict, orient='index')\n",
      "df.columns=['injury', 'returns']\n",
      "df['name'] = df.index\n",
      "df.tail()"
     ],
     "language": "python",
     "metadata": {},
     "outputs": [
      {
       "html": [
        "<div style=\"max-height:1000px;max-width:1500px;overflow:auto;\">\n",
        "<table border=\"1\" class=\"dataframe\">\n",
        "  <thead>\n",
        "    <tr style=\"text-align: right;\">\n",
        "      <th></th>\n",
        "      <th>injury</th>\n",
        "      <th>returns</th>\n",
        "      <th>name</th>\n",
        "    </tr>\n",
        "  </thead>\n",
        "  <tbody>\n",
        "    <tr>\n",
        "      <th>bellerin, h</th>\n",
        "      <td>   Ankle/Foot Injury</td>\n",
        "      <td> no date</td>\n",
        "      <td>   bellerin, h</td>\n",
        "    </tr>\n",
        "    <tr>\n",
        "      <th>smalling, c</th>\n",
        "      <td> Groin/Pelvis Injury</td>\n",
        "      <td>  1 week</td>\n",
        "      <td>   smalling, c</td>\n",
        "    </tr>\n",
        "    <tr>\n",
        "      <th>dzeko, e</th>\n",
        "      <td>    Calf/Shin Injury</td>\n",
        "      <td> 3 Weeks</td>\n",
        "      <td>      dzeko, e</td>\n",
        "    </tr>\n",
        "    <tr>\n",
        "      <th>sigurdsson, g</th>\n",
        "      <td>   Ankle/Foot Injury</td>\n",
        "      <td> no date</td>\n",
        "      <td> sigurdsson, g</td>\n",
        "    </tr>\n",
        "    <tr>\n",
        "      <th>obertan, g</th>\n",
        "      <td>    Hip/Thigh Injury</td>\n",
        "      <td> no date</td>\n",
        "      <td>    obertan, g</td>\n",
        "    </tr>\n",
        "  </tbody>\n",
        "</table>\n",
        "</div>"
       ],
       "metadata": {},
       "output_type": "pyout",
       "prompt_number": 13,
       "text": [
        "                            injury  returns           name\n",
        "bellerin, h      Ankle/Foot Injury  no date    bellerin, h\n",
        "smalling, c    Groin/Pelvis Injury   1 week    smalling, c\n",
        "dzeko, e          Calf/Shin Injury  3 Weeks       dzeko, e\n",
        "sigurdsson, g    Ankle/Foot Injury  no date  sigurdsson, g\n",
        "obertan, g        Hip/Thigh Injury  no date     obertan, g"
       ]
      }
     ],
     "prompt_number": 13
    },
    {
     "cell_type": "markdown",
     "metadata": {},
     "source": [
      "<br>\n",
      "<br>"
     ]
    },
    {
     "cell_type": "heading",
     "level": 2,
     "metadata": {},
     "source": [
      "Saving 365stats Data to CSV"
     ]
    },
    {
     "cell_type": "markdown",
     "metadata": {},
     "source": [
      "[[back to top](#Sections)]"
     ]
    },
    {
     "cell_type": "code",
     "collapsed": false,
     "input": [
      "df.to_csv('../data/2014_epl_day_17/365stats_injury_20141222.csv')"
     ],
     "language": "python",
     "metadata": {},
     "outputs": [],
     "prompt_number": 4
    },
    {
     "cell_type": "markdown",
     "metadata": {},
     "source": [
      "<br>\n",
      "<br>"
     ]
    },
    {
     "cell_type": "heading",
     "level": 1,
     "metadata": {},
     "source": [
      "Transfermarkt.com"
     ]
    },
    {
     "cell_type": "markdown",
     "metadata": {},
     "source": [
      "[[back to top](#Sections)]"
     ]
    },
    {
     "cell_type": "markdown",
     "metadata": {},
     "source": [
      "<br>\n",
      "<br>"
     ]
    },
    {
     "cell_type": "heading",
     "level": 3,
     "metadata": {},
     "source": [
      "Getting Home and Away Teams"
     ]
    },
    {
     "cell_type": "markdown",
     "metadata": {},
     "source": [
      "[[back to top](#Sections)]"
     ]
    },
    {
     "cell_type": "code",
     "collapsed": false,
     "input": [
      "import pandas as pd\n",
      "from bs4 import BeautifulSoup\n",
      "import bs4\n",
      "import requests"
     ],
     "language": "python",
     "metadata": {},
     "outputs": [],
     "prompt_number": 1
    },
    {
     "cell_type": "code",
     "collapsed": false,
     "input": [
      "# Downloading and parsing the data into a Python dict   \n",
      "    \n",
      "url = 'http://www.transfermarkt.com/premier-league/startseite/wettbewerb/GB1'\n",
      "r  = requests.get(url)\n",
      "soup = BeautifulSoup(r.text, 'html5lib') \n",
      "# Note: html5lib deals better with broken html than lxml\n",
      "\n",
      "# Find tab for the upcoming fixtures\n",
      "tab = 'spieltagtabs-2'\n",
      "div = soup.find('div', { 'id' : tab })\n",
      "tit = div.findAll('a', { 'class' : 'ergebnis-link' })\n",
      "if len(tit) > 0:\n",
      "    tab = 'spieltagtabs-3'\n",
      "\n",
      "# Get fixtures\n",
      "home = []\n",
      "away = []\n",
      "\n",
      "div = soup.find('div', { 'id' : tab })\n",
      "for t in div.findAll('td', { 'class' : 'text-right no-border-rechts no-border-links' }):\n",
      "    team = t.text.strip()\n",
      "    if team:\n",
      "        home.append(team)\n",
      "for t in div.findAll('td', { 'class' : 'no-border-links no-border-rechts' }):\n",
      "    team = t.text.strip()\n",
      "    if team:\n",
      "        away.append(team)\n",
      "\n",
      "\n",
      "df = pd.DataFrame(home, columns=['home'])\n",
      "df['away'] = away\n",
      "df"
     ],
     "language": "python",
     "metadata": {},
     "outputs": [
      {
       "html": [
        "<div style=\"max-height:1000px;max-width:1500px;overflow:auto;\">\n",
        "<table border=\"1\" class=\"dataframe\">\n",
        "  <thead>\n",
        "    <tr style=\"text-align: right;\">\n",
        "      <th></th>\n",
        "      <th>home</th>\n",
        "      <th>away</th>\n",
        "    </tr>\n",
        "  </thead>\n",
        "  <tbody>\n",
        "    <tr>\n",
        "      <th>0</th>\n",
        "      <td>      Stoke City</td>\n",
        "      <td> Manchester Utd.</td>\n",
        "    </tr>\n",
        "    <tr>\n",
        "      <th>1</th>\n",
        "      <td>     Aston Villa</td>\n",
        "      <td>  Crystal Palace</td>\n",
        "    </tr>\n",
        "    <tr>\n",
        "      <th>2</th>\n",
        "      <td>       Hull City</td>\n",
        "      <td>         Everton</td>\n",
        "    </tr>\n",
        "    <tr>\n",
        "      <th>3</th>\n",
        "      <td>    Liverpool FC</td>\n",
        "      <td>  Leicester City</td>\n",
        "    </tr>\n",
        "    <tr>\n",
        "      <th>4</th>\n",
        "      <td> Manchester City</td>\n",
        "      <td>  Sunderland AFC</td>\n",
        "    </tr>\n",
        "    <tr>\n",
        "      <th>5</th>\n",
        "      <td>  Newcastle Utd.</td>\n",
        "      <td>      Burnley FC</td>\n",
        "    </tr>\n",
        "    <tr>\n",
        "      <th>6</th>\n",
        "      <td>             QPR</td>\n",
        "      <td>    Swansea City</td>\n",
        "    </tr>\n",
        "    <tr>\n",
        "      <th>7</th>\n",
        "      <td>  Southampton FC</td>\n",
        "      <td>      Arsenal FC</td>\n",
        "    </tr>\n",
        "    <tr>\n",
        "      <th>8</th>\n",
        "      <td>   West Ham Utd.</td>\n",
        "      <td>       West Brom</td>\n",
        "    </tr>\n",
        "    <tr>\n",
        "      <th>9</th>\n",
        "      <td>           Spurs</td>\n",
        "      <td>      Chelsea FC</td>\n",
        "    </tr>\n",
        "  </tbody>\n",
        "</table>\n",
        "</div>"
       ],
       "metadata": {},
       "output_type": "pyout",
       "prompt_number": 27,
       "text": [
        "              home             away\n",
        "0       Stoke City  Manchester Utd.\n",
        "1      Aston Villa   Crystal Palace\n",
        "2        Hull City          Everton\n",
        "3     Liverpool FC   Leicester City\n",
        "4  Manchester City   Sunderland AFC\n",
        "5   Newcastle Utd.       Burnley FC\n",
        "6              QPR     Swansea City\n",
        "7   Southampton FC       Arsenal FC\n",
        "8    West Ham Utd.        West Brom\n",
        "9            Spurs       Chelsea FC"
       ]
      }
     ],
     "prompt_number": 27
    },
    {
     "cell_type": "markdown",
     "metadata": {},
     "source": [
      "<br>\n",
      "<br>"
     ]
    },
    {
     "cell_type": "heading",
     "level": 3,
     "metadata": {},
     "source": [
      "Saving Home and Away Teams to CSV"
     ]
    },
    {
     "cell_type": "markdown",
     "metadata": {},
     "source": [
      "[[back to top](#Sections)]"
     ]
    },
    {
     "cell_type": "code",
     "collapsed": false,
     "input": [
      "df.to_csv('../data/2014_epl_day_19/transfermarkt_20141227.csv', index=False)"
     ],
     "language": "python",
     "metadata": {},
     "outputs": [],
     "prompt_number": 11
    },
    {
     "cell_type": "markdown",
     "metadata": {},
     "source": [
      "<br>\n",
      "<br>"
     ]
    },
    {
     "cell_type": "heading",
     "level": 1,
     "metadata": {},
     "source": [
      "premierleague.com"
     ]
    },
    {
     "cell_type": "markdown",
     "metadata": {},
     "source": [
      "[[back to top](#Sections)]"
     ]
    },
    {
     "cell_type": "code",
     "collapsed": false,
     "input": [
      "import pandas as pd\n",
      "from bs4 import BeautifulSoup\n",
      "import bs4\n",
      "import requests"
     ],
     "language": "python",
     "metadata": {},
     "outputs": [],
     "prompt_number": 2
    },
    {
     "cell_type": "code",
     "collapsed": false,
     "input": [
      "# Downloading and parsing the data into a Python dict\n",
      "\n",
      "url = 'http://www.premierleague.com/en-gb/matchday.html'\n",
      "r  = requests.get(url)\n",
      "soup = BeautifulSoup(r.text, 'html5lib') \n",
      "# Note: html5lib deals better with broken html than lxml\n",
      "\n",
      "home = []\n",
      "away = []\n",
      "\n",
      "for t in soup.findAll('td', { 'width' : '30%' }):\n",
      "    team = t.text.strip().split(' v ')\n",
      "    print(team)\n"
     ],
     "language": "python",
     "metadata": {},
     "outputs": [
      {
       "output_type": "stream",
       "stream": "stdout",
       "text": [
        "['Spurs', 'Man Utd']\n",
        "['Southampton', 'Chelsea']\n",
        "['Aston Villa', 'Sunderland']\n",
        "['Hull', 'Leicester']\n",
        "['Man City', 'Burnley']\n",
        "['QPR', 'Crystal Palace']\n",
        "['Stoke', 'West Brom']\n",
        "['West Ham', 'Arsenal']\n",
        "['Newcastle', 'Everton']\n",
        "['Leicester', 'Newcastle']\n",
        "['Tranmere', 'Swansea']\n",
        "['West Brom', 'Gateshead']\n",
        "['Liverpool', 'Chelsea']\n",
        "['Paris SG', 'Chelsea']\n",
        "['BSC Young Boys', 'Everton']\n",
        "['Liverpool', 'Besiktas']\n",
        "['Spurs', 'Fiorentina']\n"
       ]
      }
     ],
     "prompt_number": 9
    },
    {
     "cell_type": "markdown",
     "metadata": {},
     "source": [
      "<br>\n",
      "<br>"
     ]
    },
    {
     "cell_type": "heading",
     "level": 1,
     "metadata": {},
     "source": [
      "telegraph.co.uk"
     ]
    },
    {
     "cell_type": "markdown",
     "metadata": {},
     "source": [
      "[[back to top](#Sections)]"
     ]
    },
    {
     "cell_type": "markdown",
     "metadata": {},
     "source": [
      "<br>\n",
      "<br>"
     ]
    },
    {
     "cell_type": "heading",
     "level": 2,
     "metadata": {},
     "source": [
      "Getting Current Week Points"
     ]
    },
    {
     "cell_type": "markdown",
     "metadata": {},
     "source": [
      "[[back to top](#Sections)]"
     ]
    },
    {
     "cell_type": "code",
     "collapsed": false,
     "input": [
      "import pandas as pd\n",
      "from bs4 import BeautifulSoup\n",
      "import bs4\n",
      "import requests"
     ],
     "language": "python",
     "metadata": {},
     "outputs": [],
     "prompt_number": 1
    },
    {
     "cell_type": "code",
     "collapsed": false,
     "input": [
      "url = 'https://fantasyfootball.telegraph.co.uk/premierleague/players/'\n",
      "r  = requests.get(url)\n",
      "soup = BeautifulSoup(r.text, 'html5lib') \n",
      "# Note: html5lib deals better with broken html than lxml\n",
      "\n",
      "player_dict = {}\n",
      "\n",
      "for t in soup.findAll('td', { 'class' : 'first' }):\n",
      "    player = t.text.strip()\n",
      "    player_dict[player] = []\n",
      "    for s in t.next_siblings:\n",
      "        if isinstance(s, bs4.Tag):\n",
      "            player_dict[player].append(s.text)\n",
      "\n",
      "# parse the player dictionary\n",
      "df = pd.DataFrame.from_dict(player_dict, orient='index')\n",
      "\n",
      "# make name column\n",
      "df['name'] = df.index\n",
      "\n",
      "# assign column names and reorder columns\n",
      "df.columns = ['team', 'salary', 'pts/salary', 'week_pts', 'total_pts', 'name']\n",
      "df = df[['name', 'team', 'salary', 'pts/salary', 'week_pts', 'total_pts']]\n",
      "\n",
      "# parse data into the right format\n",
      "df['salary'] = df['salary'].apply(lambda x: x.strip('\u00a3').strip(' m'))\n",
      "df[['salary', 'pts/salary']] = df[['salary', 'pts/salary']].astype(float)\n",
      "df[['week_pts', 'total_pts']] = df[['week_pts', 'total_pts']].astype(float)\n",
      "\n",
      "print(df.shape)\n",
      "df.tail()"
     ],
     "language": "python",
     "metadata": {},
     "outputs": [
      {
       "output_type": "stream",
       "stream": "stdout",
       "text": [
        "(548, 6)\n"
       ]
      },
      {
       "html": [
        "<div style=\"max-height:1000px;max-width:1500px;overflow:auto;\">\n",
        "<table border=\"1\" class=\"dataframe\">\n",
        "  <thead>\n",
        "    <tr style=\"text-align: right;\">\n",
        "      <th></th>\n",
        "      <th>name</th>\n",
        "      <th>team</th>\n",
        "      <th>salary</th>\n",
        "      <th>pts/salary</th>\n",
        "      <th>week_pts</th>\n",
        "      <th>total_pts</th>\n",
        "    </tr>\n",
        "  </thead>\n",
        "  <tbody>\n",
        "    <tr>\n",
        "      <th>Moreno, A</th>\n",
        "      <td>   Moreno, A</td>\n",
        "      <td>        Liverpool</td>\n",
        "      <td> 3.8</td>\n",
        "      <td>  8.7</td>\n",
        "      <td> 0</td>\n",
        "      <td> 33</td>\n",
        "    </tr>\n",
        "    <tr>\n",
        "      <th>Grealish, J</th>\n",
        "      <td> Grealish, J</td>\n",
        "      <td>      Aston Villa</td>\n",
        "      <td> 2.5</td>\n",
        "      <td>  2.8</td>\n",
        "      <td> 2</td>\n",
        "      <td>  7</td>\n",
        "    </tr>\n",
        "    <tr>\n",
        "      <th>Ferguson, S</th>\n",
        "      <td> Ferguson, S</td>\n",
        "      <td> Newcastle United</td>\n",
        "      <td> 2.8</td>\n",
        "      <td>  0.0</td>\n",
        "      <td> 0</td>\n",
        "      <td>  0</td>\n",
        "    </tr>\n",
        "    <tr>\n",
        "      <th>Coleman, S</th>\n",
        "      <td>  Coleman, S</td>\n",
        "      <td>          Everton</td>\n",
        "      <td> 4.1</td>\n",
        "      <td> 11.5</td>\n",
        "      <td> 5</td>\n",
        "      <td> 47</td>\n",
        "    </tr>\n",
        "    <tr>\n",
        "      <th>Chamakh, M</th>\n",
        "      <td>  Chamakh, M</td>\n",
        "      <td>   Crystal Palace</td>\n",
        "      <td> 3.8</td>\n",
        "      <td>  8.2</td>\n",
        "      <td> 0</td>\n",
        "      <td> 31</td>\n",
        "    </tr>\n",
        "  </tbody>\n",
        "</table>\n",
        "</div>"
       ],
       "metadata": {},
       "output_type": "pyout",
       "prompt_number": 16,
       "text": [
        "                    name              team  salary  pts/salary  week_pts  \\\n",
        "Moreno, A      Moreno, A         Liverpool     3.8         8.7         0   \n",
        "Grealish, J  Grealish, J       Aston Villa     2.5         2.8         2   \n",
        "Ferguson, S  Ferguson, S  Newcastle United     2.8         0.0         0   \n",
        "Coleman, S    Coleman, S           Everton     4.1        11.5         5   \n",
        "Chamakh, M    Chamakh, M    Crystal Palace     3.8         8.2         0   \n",
        "\n",
        "             total_pts  \n",
        "Moreno, A           33  \n",
        "Grealish, J          7  \n",
        "Ferguson, S          0  \n",
        "Coleman, S          47  \n",
        "Chamakh, M          31  "
       ]
      }
     ],
     "prompt_number": 16
    },
    {
     "cell_type": "markdown",
     "metadata": {},
     "source": [
      "<br>\n",
      "<br>"
     ]
    },
    {
     "cell_type": "heading",
     "level": 2,
     "metadata": {},
     "source": [
      "Getting 6-Week Points"
     ]
    },
    {
     "cell_type": "markdown",
     "metadata": {},
     "source": [
      "[[back to top](#Sections)]"
     ]
    },
    {
     "cell_type": "code",
     "collapsed": false,
     "input": [
      "url = 'https://fantasyfootball.telegraph.co.uk/premierleague/formguide/'\n",
      "r  = requests.get(url)\n",
      "soup = BeautifulSoup(r.text, 'html5lib') \n",
      "# Note: html5lib deals better with broken html than lxml\n",
      "\n",
      "df['6week_pts'] = pd.Series(0, index=df.index)\n",
      "\n",
      "for t in soup.findAll('td', { 'class' : 'first' }):\n",
      "    player = t.text.strip()\n",
      "    if player:\n",
      "        week6 = t.parent.find('td', { 'class' : 'sixth last' })\n",
      "        df.loc[df['name'] == player, '6week_pts'] = week6.text\n",
      "\n",
      "df.tail()"
     ],
     "language": "python",
     "metadata": {},
     "outputs": [
      {
       "html": [
        "<div style=\"max-height:1000px;max-width:1500px;overflow:auto;\">\n",
        "<table border=\"1\" class=\"dataframe\">\n",
        "  <thead>\n",
        "    <tr style=\"text-align: right;\">\n",
        "      <th></th>\n",
        "      <th>name</th>\n",
        "      <th>team</th>\n",
        "      <th>salary</th>\n",
        "      <th>pts/salary</th>\n",
        "      <th>week_pts</th>\n",
        "      <th>total_pts</th>\n",
        "      <th>6week_pts</th>\n",
        "    </tr>\n",
        "  </thead>\n",
        "  <tbody>\n",
        "    <tr>\n",
        "      <th>Moreno, A</th>\n",
        "      <td>   Moreno, A</td>\n",
        "      <td>        Liverpool</td>\n",
        "      <td> 3.8</td>\n",
        "      <td>  8.7</td>\n",
        "      <td> 0</td>\n",
        "      <td> 33</td>\n",
        "      <td> 10</td>\n",
        "    </tr>\n",
        "    <tr>\n",
        "      <th>Grealish, J</th>\n",
        "      <td> Grealish, J</td>\n",
        "      <td>      Aston Villa</td>\n",
        "      <td> 2.5</td>\n",
        "      <td>  2.8</td>\n",
        "      <td> 2</td>\n",
        "      <td>  7</td>\n",
        "      <td>  4</td>\n",
        "    </tr>\n",
        "    <tr>\n",
        "      <th>Ferguson, S</th>\n",
        "      <td> Ferguson, S</td>\n",
        "      <td> Newcastle United</td>\n",
        "      <td> 2.8</td>\n",
        "      <td>  0.0</td>\n",
        "      <td> 0</td>\n",
        "      <td>  0</td>\n",
        "      <td>  0</td>\n",
        "    </tr>\n",
        "    <tr>\n",
        "      <th>Coleman, S</th>\n",
        "      <td>  Coleman, S</td>\n",
        "      <td>          Everton</td>\n",
        "      <td> 4.1</td>\n",
        "      <td> 11.5</td>\n",
        "      <td> 5</td>\n",
        "      <td> 47</td>\n",
        "      <td> 13</td>\n",
        "    </tr>\n",
        "    <tr>\n",
        "      <th>Chamakh, M</th>\n",
        "      <td>  Chamakh, M</td>\n",
        "      <td>   Crystal Palace</td>\n",
        "      <td> 3.8</td>\n",
        "      <td>  8.2</td>\n",
        "      <td> 0</td>\n",
        "      <td> 31</td>\n",
        "      <td>  8</td>\n",
        "    </tr>\n",
        "  </tbody>\n",
        "</table>\n",
        "</div>"
       ],
       "metadata": {},
       "output_type": "pyout",
       "prompt_number": 38,
       "text": [
        "                    name              team  salary  pts/salary  week_pts  \\\n",
        "Moreno, A      Moreno, A         Liverpool     3.8         8.7         0   \n",
        "Grealish, J  Grealish, J       Aston Villa     2.5         2.8         2   \n",
        "Ferguson, S  Ferguson, S  Newcastle United     2.8         0.0         0   \n",
        "Coleman, S    Coleman, S           Everton     4.1        11.5         5   \n",
        "Chamakh, M    Chamakh, M    Crystal Palace     3.8         8.2         0   \n",
        "\n",
        "             total_pts 6week_pts  \n",
        "Moreno, A           33        10  \n",
        "Grealish, J          7         4  \n",
        "Ferguson, S          0         0  \n",
        "Coleman, S          47        13  \n",
        "Chamakh, M          31         8  "
       ]
      }
     ],
     "prompt_number": 38
    },
    {
     "cell_type": "markdown",
     "metadata": {},
     "source": [
      "<br>\n",
      "<br>"
     ]
    },
    {
     "cell_type": "heading",
     "level": 2,
     "metadata": {},
     "source": [
      "Saving telegraph.co.uk to CSV"
     ]
    },
    {
     "cell_type": "markdown",
     "metadata": {},
     "source": [
      "[[back to top](#Sections)]"
     ]
    },
    {
     "cell_type": "code",
     "collapsed": false,
     "input": [
      "df.to_csv('../data/2014_epl_day_20/telegraph_20141229.csv', index=False)"
     ],
     "language": "python",
     "metadata": {},
     "outputs": [],
     "prompt_number": 39
    },
    {
     "cell_type": "markdown",
     "metadata": {},
     "source": [
      "<br>\n",
      "<br>"
     ]
    },
    {
     "cell_type": "heading",
     "level": 1,
     "metadata": {},
     "source": [
      "m.premierleague.com"
     ]
    },
    {
     "cell_type": "markdown",
     "metadata": {},
     "source": [
      "[[back to top](#Sections)]"
     ]
    },
    {
     "cell_type": "markdown",
     "metadata": {},
     "source": [
      "<br>\n",
      "<br>"
     ]
    },
    {
     "cell_type": "heading",
     "level": 2,
     "metadata": {},
     "source": [
      "Combined Form of Previous 6 Days"
     ]
    },
    {
     "cell_type": "markdown",
     "metadata": {},
     "source": [
      "[[back to top](#Sections)]"
     ]
    },
    {
     "cell_type": "code",
     "collapsed": false,
     "input": [
      "import pandas as pd\n",
      "from bs4 import BeautifulSoup\n",
      "import bs4\n",
      "import requests"
     ],
     "language": "python",
     "metadata": {},
     "outputs": [],
     "prompt_number": 2
    },
    {
     "cell_type": "code",
     "collapsed": false,
     "input": [
      "url = 'http://m.premierleague.com/en-gb/form-guide.html'\n",
      "r  = requests.get(url)\n",
      "soup = BeautifulSoup(r.text, 'html5lib') \n",
      "# Note: html5lib deals better with broken html than lxml\n",
      "\n",
      "#df['6week_pts'] = pd.Series(0, index=df.index)\n",
      "\n",
      "team_dict = {}\n",
      "\n",
      "for d in soup.findAll('td', { 'class' : 'col-pos' }):\n",
      "    if len(team_dict) > 20:\n",
      "        break\n",
      "    pos = d.text\n",
      "    for e in d.next_siblings:\n",
      "        if isinstance(e, bs4.Tag):\n",
      "            if 'class' in e.attrs and 'col-club' in e.attrs['class']:\n",
      "                club = e.text\n",
      "                team_dict[club] = pos\n",
      "                break\n",
      "\n",
      "df = pd.DataFrame.from_dict(team_dict, orient='index')\n",
      "df.columns = ['position-last-6-games']\n",
      "df.tail()"
     ],
     "language": "python",
     "metadata": {},
     "outputs": [
      {
       "html": [
        "<div style=\"max-height:1000px;max-width:1500px;overflow:auto;\">\n",
        "<table border=\"1\" class=\"dataframe\">\n",
        "  <thead>\n",
        "    <tr style=\"text-align: right;\">\n",
        "      <th></th>\n",
        "      <th>position-last-6-games</th>\n",
        "    </tr>\n",
        "  </thead>\n",
        "  <tbody>\n",
        "    <tr>\n",
        "      <th>Chelsea</th>\n",
        "      <td>  6</td>\n",
        "    </tr>\n",
        "    <tr>\n",
        "      <th>Burnley</th>\n",
        "      <td> 13</td>\n",
        "    </tr>\n",
        "    <tr>\n",
        "      <th>Leicester</th>\n",
        "      <td> 17</td>\n",
        "    </tr>\n",
        "    <tr>\n",
        "      <th>Everton</th>\n",
        "      <td> 19</td>\n",
        "    </tr>\n",
        "    <tr>\n",
        "      <th>Man Utd</th>\n",
        "      <td>  4</td>\n",
        "    </tr>\n",
        "  </tbody>\n",
        "</table>\n",
        "</div>"
       ],
       "metadata": {},
       "output_type": "pyout",
       "prompt_number": 25,
       "text": [
        "          position-last-6-games\n",
        "Chelsea                       6\n",
        "Burnley                      13\n",
        "Leicester                    17\n",
        "Everton                      19\n",
        "Man Utd                       4"
       ]
      }
     ],
     "prompt_number": 25
    },
    {
     "cell_type": "markdown",
     "metadata": {},
     "source": [
      "<br>\n",
      "<br>"
     ]
    },
    {
     "cell_type": "heading",
     "level": 2,
     "metadata": {},
     "source": [
      "Saving m.premierleague.com to CSV"
     ]
    },
    {
     "cell_type": "markdown",
     "metadata": {},
     "source": [
      "[[back to top](#Sections)]"
     ]
    },
    {
     "cell_type": "code",
     "collapsed": false,
     "input": [
      "df.to_csv('../data/2014_epl_day_20/mpremierleague_20141230.csv', index=False)"
     ],
     "language": "python",
     "metadata": {},
     "outputs": [],
     "prompt_number": 26
    }
   ],
   "metadata": {}
  }
 ]
}